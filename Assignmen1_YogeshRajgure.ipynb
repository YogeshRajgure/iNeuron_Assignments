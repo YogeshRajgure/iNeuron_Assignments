{
  "nbformat": 4,
  "nbformat_minor": 0,
  "metadata": {
    "colab": {
      "name": "Assignmen1_YogeshRajgure.ipynb",
      "provenance": [],
      "authorship_tag": "ABX9TyPYYNY2sxwgoNAMHW3t3s8n",
      "include_colab_link": true
    },
    "kernelspec": {
      "name": "python3",
      "display_name": "Python 3"
    }
  },
  "cells": [
    {
      "cell_type": "markdown",
      "metadata": {
        "id": "view-in-github",
        "colab_type": "text"
      },
      "source": [
        "<a href=\"https://colab.research.google.com/github/YogeshRajgure/iNeuron_Assignments/blob/main/Assignmen1_YogeshRajgure.ipynb\" target=\"_parent\"><img src=\"https://colab.research.google.com/assets/colab-badge.svg\" alt=\"Open In Colab\"/></a>"
      ]
    },
    {
      "cell_type": "markdown",
      "metadata": {
        "id": "_PfhKjZhmLxF"
      },
      "source": [
        "#### **Write a program which will find all such numbers which are divisible by 7 but are not a multiple of 5, between 2000 and 3200 (both included). The numbers obtained should be printed in a comma-separated sequence on a single line.** "
      ]
    },
    {
      "cell_type": "code",
      "metadata": {
        "colab": {
          "base_uri": "https://localhost:8080/"
        },
        "id": "7JHXhoH5mQht",
        "outputId": "874a2c56-4c4b-41ac-dfda-e399206a6686"
      },
      "source": [
        "divby7_notmul5 = list()\n",
        "\n",
        "for num in range(2000, 3201):\n",
        "  if num%7 == 0 and num%10 != (5 and 0):\n",
        "    divby7_notmul5.append(num)\n",
        "\n",
        "print(divby7_notmul5)"
      ],
      "execution_count": null,
      "outputs": [
        {
          "output_type": "stream",
          "text": [
            "[2002, 2009, 2016, 2023, 2037, 2044, 2051, 2058, 2065, 2072, 2079, 2086, 2093, 2107, 2114, 2121, 2128, 2135, 2142, 2149, 2156, 2163, 2177, 2184, 2191, 2198, 2205, 2212, 2219, 2226, 2233, 2247, 2254, 2261, 2268, 2275, 2282, 2289, 2296, 2303, 2317, 2324, 2331, 2338, 2345, 2352, 2359, 2366, 2373, 2387, 2394, 2401, 2408, 2415, 2422, 2429, 2436, 2443, 2457, 2464, 2471, 2478, 2485, 2492, 2499, 2506, 2513, 2527, 2534, 2541, 2548, 2555, 2562, 2569, 2576, 2583, 2597, 2604, 2611, 2618, 2625, 2632, 2639, 2646, 2653, 2667, 2674, 2681, 2688, 2695, 2702, 2709, 2716, 2723, 2737, 2744, 2751, 2758, 2765, 2772, 2779, 2786, 2793, 2807, 2814, 2821, 2828, 2835, 2842, 2849, 2856, 2863, 2877, 2884, 2891, 2898, 2905, 2912, 2919, 2926, 2933, 2947, 2954, 2961, 2968, 2975, 2982, 2989, 2996, 3003, 3017, 3024, 3031, 3038, 3045, 3052, 3059, 3066, 3073, 3087, 3094, 3101, 3108, 3115, 3122, 3129, 3136, 3143, 3157, 3164, 3171, 3178, 3185, 3192, 3199]\n"
          ],
          "name": "stdout"
        }
      ]
    },
    {
      "cell_type": "code",
      "metadata": {
        "id": "-DsOIVn3nT5W"
      },
      "source": [
        ""
      ],
      "execution_count": null,
      "outputs": []
    },
    {
      "cell_type": "markdown",
      "metadata": {
        "id": "3aI433EfqByX"
      },
      "source": [
        "### **Write a Python program to accept the user's first and last name and then getting them printed in the the reverse order with a space between first name and last name.**"
      ]
    },
    {
      "cell_type": "code",
      "metadata": {
        "colab": {
          "base_uri": "https://localhost:8080/"
        },
        "id": "Pu9Dbo5Zn3CP",
        "outputId": "8365a6e9-e5f5-4eef-e652-9a39615c7b7a"
      },
      "source": [
        "    # understanding 1 : print names in reverse order\n",
        "fname = input(\"Enter ur first name : \")\n",
        "lname = input(\"Enter ur last name  : \")\n",
        "\n",
        "print(fname[::-1].lower() + ' ' + lname[::-1].lower() )"
      ],
      "execution_count": null,
      "outputs": [
        {
          "output_type": "stream",
          "text": [
            "Enter ur first name : Yogesh\n",
            "Enter ur last name  : Rajgure\n",
            "hsegoy erugjar\n"
          ],
          "name": "stdout"
        }
      ]
    },
    {
      "cell_type": "code",
      "metadata": {
        "colab": {
          "base_uri": "https://localhost:8080/"
        },
        "id": "SEXZqvw0rZm2",
        "outputId": "7f6bc926-4a2f-439b-990a-d9b3f5219d8a"
      },
      "source": [
        "# inderstanding 2 : print lastname first and firstname afterwards\n",
        "name = input(\"Enter ur full name : \")\n",
        "print(' '.join(name.split(' ')[::-1]))"
      ],
      "execution_count": null,
      "outputs": [
        {
          "output_type": "stream",
          "text": [
            "Enter ur full name : Yogesh Rajgure\n",
            "Rajgure Yogesh\n"
          ],
          "name": "stdout"
        }
      ]
    },
    {
      "cell_type": "code",
      "metadata": {
        "id": "iyDvFbAkv_jr"
      },
      "source": [
        ""
      ],
      "execution_count": null,
      "outputs": []
    },
    {
      "cell_type": "markdown",
      "metadata": {
        "id": "sdKgAB9-tWN7"
      },
      "source": [
        "###**Write a Python program to find the volume of a sphere with diameter 12 cm.Formula: V=4/3 * π * r **3**"
      ]
    },
    {
      "cell_type": "code",
      "metadata": {
        "colab": {
          "base_uri": "https://localhost:8080/"
        },
        "id": "38BQuhp0thAx",
        "outputId": "be189398-2093-4c65-8a30-47301e421a03"
      },
      "source": [
        "import math\n",
        "diameter = 12 # cm\n",
        "radius = diameter/2\n",
        "volume = (4/3) * math.pi * pow(radius , 3)\n",
        "\n",
        "print(f\"{volume:.2f} cubic cm\" )\n"
      ],
      "execution_count": null,
      "outputs": [
        {
          "output_type": "stream",
          "text": [
            "904.78 cubic cm\n"
          ],
          "name": "stdout"
        }
      ]
    },
    {
      "cell_type": "code",
      "metadata": {
        "id": "fLFxeT9Fulez"
      },
      "source": [
        ""
      ],
      "execution_count": null,
      "outputs": []
    }
  ]
}