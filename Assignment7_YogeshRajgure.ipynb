{
  "nbformat": 4,
  "nbformat_minor": 0,
  "metadata": {
    "colab": {
      "name": "Assignment7_YogeshRajgure.ipynb",
      "provenance": [],
      "authorship_tag": "ABX9TyMg2cS/XCeVBWHLJDFgOhAQ",
      "include_colab_link": true
    },
    "kernelspec": {
      "name": "python3",
      "display_name": "Python 3"
    },
    "language_info": {
      "name": "python"
    }
  },
  "cells": [
    {
      "cell_type": "markdown",
      "metadata": {
        "id": "view-in-github",
        "colab_type": "text"
      },
      "source": [
        "<a href=\"https://colab.research.google.com/github/YogeshRajgure/iNeuron_Assignments/blob/main/Assignment7_YogeshRajgure.ipynb\" target=\"_parent\"><img src=\"https://colab.research.google.com/assets/colab-badge.svg\" alt=\"Open In Colab\"/></a>"
      ]
    },
    {
      "cell_type": "markdown",
      "metadata": {
        "id": "OH_89OACNwLV"
      },
      "source": [
        "###**Write a function so that the columns of the output matrix are powers of the input vector.The order of the powers is determined by the increasing boolean argument. Specifically, when increasing is False, the i-th output column is the input vector raised element-wise to the power of N - i - 1.**\n",
        "###**HINT: Such a matrix with a geometric progression in each row is named for Alexandre-Theophile Vandermonde.**"
      ]
    },
    {
      "cell_type": "code",
      "metadata": {
        "id": "U2Bt_ZvANoIU"
      },
      "source": [
        "import numpy as np\n",
        "\n",
        "def dummy_vander(x,n = None, increasing = False):\n",
        "    \n",
        "    if n == None:\n",
        "        n = len(x)\n",
        "        \n",
        "    final_mat = list()\n",
        "    \n",
        "    \n",
        "    if increasing == False:\n",
        "        \n",
        "        for i in x:\n",
        "            \n",
        "            row_mat = []\n",
        "            for j in range(n-1,-1,-1):\n",
        "            \n",
        "                row_mat.append(i**(j))\n",
        "            \n",
        "            final_mat.append(row_mat)\n",
        "        \n",
        "    else:\n",
        "        for i in x:\n",
        "            \n",
        "            row_mat = []\n",
        "            for j in range(n):\n",
        "            \n",
        "                row_mat.append(i**(j))\n",
        "            \n",
        "            final_mat.append(row_mat)\n",
        "        \n",
        "    return np.array(final_mat)\n",
        "    "
      ],
      "execution_count": null,
      "outputs": []
    },
    {
      "cell_type": "code",
      "metadata": {
        "id": "tia66tOROaGX"
      },
      "source": [
        "x= np.array([1, 2, 3, 5])\n",
        "n= 3"
      ],
      "execution_count": null,
      "outputs": []
    },
    {
      "cell_type": "code",
      "metadata": {
        "colab": {
          "base_uri": "https://localhost:8080/"
        },
        "id": "UGOzFAn4Odo6",
        "outputId": "3e86ccd0-c05e-4e04-b1c1-b34c154974aa"
      },
      "source": [
        "dummy_vander(x,n)"
      ],
      "execution_count": null,
      "outputs": [
        {
          "output_type": "execute_result",
          "data": {
            "text/plain": [
              "array([[ 1,  1,  1],\n",
              "       [ 4,  2,  1],\n",
              "       [ 9,  3,  1],\n",
              "       [25,  5,  1]])"
            ]
          },
          "metadata": {
            "tags": []
          },
          "execution_count": 3
        }
      ]
    },
    {
      "cell_type": "code",
      "metadata": {
        "colab": {
          "base_uri": "https://localhost:8080/"
        },
        "id": "3GNhkIKKOf6l",
        "outputId": "2bf49891-27e5-4564-df3a-8f95654ab435"
      },
      "source": [
        "# check with real function\n",
        "\n",
        "np.vander(x,n)"
      ],
      "execution_count": null,
      "outputs": [
        {
          "output_type": "execute_result",
          "data": {
            "text/plain": [
              "array([[ 1,  1,  1],\n",
              "       [ 4,  2,  1],\n",
              "       [ 9,  3,  1],\n",
              "       [25,  5,  1]])"
            ]
          },
          "metadata": {
            "tags": []
          },
          "execution_count": 4
        }
      ]
    },
    {
      "cell_type": "code",
      "metadata": {
        "colab": {
          "base_uri": "https://localhost:8080/"
        },
        "id": "LFQlkuIPOllP",
        "outputId": "cb9320de-68c3-415d-84f5-2e3bcb054e96"
      },
      "source": [
        "dummy_vander(x,n,increasing=True)"
      ],
      "execution_count": null,
      "outputs": [
        {
          "output_type": "execute_result",
          "data": {
            "text/plain": [
              "array([[ 1,  1,  1],\n",
              "       [ 1,  2,  4],\n",
              "       [ 1,  3,  9],\n",
              "       [ 1,  5, 25]])"
            ]
          },
          "metadata": {
            "tags": []
          },
          "execution_count": 5
        }
      ]
    },
    {
      "cell_type": "code",
      "metadata": {
        "colab": {
          "base_uri": "https://localhost:8080/"
        },
        "id": "_q6JStZfOoNW",
        "outputId": "e4ec2631-07f9-4d89-85fd-354f6e922aa9"
      },
      "source": [
        "# check with real function\n",
        "\n",
        "np.vander(x,n, increasing=True)"
      ],
      "execution_count": null,
      "outputs": [
        {
          "output_type": "execute_result",
          "data": {
            "text/plain": [
              "array([[ 1,  1,  1],\n",
              "       [ 1,  2,  4],\n",
              "       [ 1,  3,  9],\n",
              "       [ 1,  5, 25]])"
            ]
          },
          "metadata": {
            "tags": []
          },
          "execution_count": 6
        }
      ]
    },
    {
      "cell_type": "code",
      "metadata": {
        "id": "HiH9w43hOtA-"
      },
      "source": [
        ""
      ],
      "execution_count": null,
      "outputs": []
    },
    {
      "cell_type": "markdown",
      "metadata": {
        "id": "-jXBdTpuO7zl"
      },
      "source": [
        "###**Write a function to find moving average in an array over a window: Test it over [3, 5, 7, 2, 8, 10, 11, 65, 72, 81, 99, 100, 150] and window of 3.**"
      ]
    },
    {
      "cell_type": "code",
      "metadata": {
        "id": "TWSjcZcJOyx6"
      },
      "source": [
        "def moving_avg(n, k):\n",
        "    \n",
        "    x = list()\n",
        "    x_avg = list()\n",
        "    \n",
        "    for i in range(n):\n",
        "        x.append(int(input())) \n",
        "    \n",
        "    for i in range(len(x)-k+1):\n",
        "        s = 0\n",
        "        for j in range(k):\n",
        "            s += x[i + j]    \n",
        "        x_avg.append(s // k)\n",
        "    \n",
        "    return x_avg"
      ],
      "execution_count": null,
      "outputs": []
    },
    {
      "cell_type": "code",
      "metadata": {
        "colab": {
          "base_uri": "https://localhost:8080/"
        },
        "id": "vN5UGXIOPBi9",
        "outputId": "c431f23e-e6b7-44e9-f029-71fa7208c339"
      },
      "source": [
        "n=13\n",
        "k=3\n",
        "moving_avg(n, k)"
      ],
      "execution_count": null,
      "outputs": [
        {
          "output_type": "stream",
          "text": [
            "3\n",
            "5\n",
            "7\n",
            "2\n",
            "8\n",
            "10\n",
            "11\n",
            "65\n",
            "72\n",
            "81\n",
            "99\n",
            "100\n",
            "150\n"
          ],
          "name": "stdout"
        },
        {
          "output_type": "execute_result",
          "data": {
            "text/plain": [
              "[5, 4, 5, 6, 9, 28, 49, 72, 84, 93, 116]"
            ]
          },
          "metadata": {
            "tags": []
          },
          "execution_count": 8
        }
      ]
    },
    {
      "cell_type": "code",
      "metadata": {
        "colab": {
          "base_uri": "https://localhost:8080/"
        },
        "id": "XUTxjddoPGHB",
        "outputId": "0c338a91-d383-4758-c2c4-9bce386c87f8"
      },
      "source": [
        "#check with given input and output\n",
        "moving_avg(10, 4)"
      ],
      "execution_count": null,
      "outputs": [
        {
          "output_type": "stream",
          "text": [
            "10\n",
            "20\n",
            "30\n",
            "40\n",
            "50\n",
            "60\n",
            "70\n",
            "80\n",
            "90\n",
            "100\n"
          ],
          "name": "stdout"
        },
        {
          "output_type": "execute_result",
          "data": {
            "text/plain": [
              "[25, 35, 45, 55, 65, 75, 85]"
            ]
          },
          "metadata": {
            "tags": []
          },
          "execution_count": 10
        }
      ]
    }
  ]
}