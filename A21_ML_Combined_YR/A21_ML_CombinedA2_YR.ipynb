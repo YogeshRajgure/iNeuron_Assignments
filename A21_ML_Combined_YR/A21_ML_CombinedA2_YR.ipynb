{
  "nbformat": 4,
  "nbformat_minor": 0,
  "metadata": {
    "colab": {
      "name": "A21_ML_CombinedA2_YR.ipynb",
      "provenance": [],
      "authorship_tag": "ABX9TyPhT4iy0DFpBin3kgMjbFhh",
      "include_colab_link": true
    },
    "kernelspec": {
      "name": "python3",
      "display_name": "Python 3"
    },
    "language_info": {
      "name": "python"
    }
  },
  "cells": [
    {
      "cell_type": "markdown",
      "metadata": {
        "id": "view-in-github",
        "colab_type": "text"
      },
      "source": [
        "<a href=\"https://colab.research.google.com/github/YogeshRajgure/iNeuron_Assignments/blob/main/A21_ML_Combined_YR/A21_ML_CombinedA2_YR.ipynb\" target=\"_parent\"><img src=\"https://colab.research.google.com/assets/colab-badge.svg\" alt=\"Open In Colab\"/></a>"
      ]
    },
    {
      "cell_type": "markdown",
      "metadata": {
        "id": "jpo3PVPRESds"
      },
      "source": [
        "# Assignment 2"
      ]
    },
    {
      "cell_type": "markdown",
      "metadata": {
        "id": "DFUJFClQEbi4"
      },
      "source": [
        "In this assignment students have to find the frequency of words in a\n",
        "webpage. User can use urllib and BeautifulSoup to extract text from\n",
        "webpage."
      ]
    },
    {
      "cell_type": "code",
      "metadata": {
        "id": "DRzufNb0RB2N"
      },
      "source": [
        "from bs4 import BeautifulSoup\n",
        "import urllib.request\n",
        "import nltk\n",
        "import requests\n",
        "import re"
      ],
      "execution_count": 1,
      "outputs": []
    },
    {
      "cell_type": "code",
      "metadata": {
        "id": "dUqHCQUDEzuL"
      },
      "source": [
        "response = urllib.request.urlopen('https://en.wikipedia.org/wiki/Avengers:_Endgame')\n",
        "html = response.read()\n",
        "raw = BeautifulSoup(html,'html5lib').get_text()"
      ],
      "execution_count": 2,
      "outputs": []
    },
    {
      "cell_type": "code",
      "metadata": {
        "colab": {
          "base_uri": "https://localhost:8080/"
        },
        "id": "R8B1jR-AFKNW",
        "outputId": "0c05b30b-b877-40dd-ba01-ceb4e5c0073e"
      },
      "source": [
        "from nltk.corpus import stopwords\n",
        "import string\n",
        "from nltk.stem import WordNetLemmatizer\n",
        "from nltk.stem import LancasterStemmer, SnowballStemmer\n",
        "\n",
        "\n",
        "nltk.download('stopwords')\n",
        "nltk.download('punkt')\n",
        "nltk.download('wordnet')"
      ],
      "execution_count": 3,
      "outputs": [
        {
          "output_type": "stream",
          "text": [
            "[nltk_data] Downloading package stopwords to /root/nltk_data...\n",
            "[nltk_data]   Package stopwords is already up-to-date!\n",
            "[nltk_data] Downloading package punkt to /root/nltk_data...\n",
            "[nltk_data]   Package punkt is already up-to-date!\n",
            "[nltk_data] Downloading package wordnet to /root/nltk_data...\n",
            "[nltk_data]   Package wordnet is already up-to-date!\n"
          ],
          "name": "stdout"
        },
        {
          "output_type": "execute_result",
          "data": {
            "text/plain": [
              "True"
            ]
          },
          "metadata": {},
          "execution_count": 3
        }
      ]
    },
    {
      "cell_type": "code",
      "metadata": {
        "id": "osnXSsuFLYK0"
      },
      "source": [
        "stop_words = stopwords.words('english')\n",
        "#stop_words\n",
        "\n",
        "punct = string.punctuation\n",
        "punct = '!\\\"#$%&\\'()*+,-./:;<=>?@[\\]^_`{|}~''`` 0123456789'\n",
        "\n",
        "\n",
        "lemma = WordNetLemmatizer()\n",
        "Snowball = SnowballStemmer(\"english\")\n",
        "\n"
      ],
      "execution_count": 4,
      "outputs": []
    },
    {
      "cell_type": "code",
      "metadata": {
        "id": "cVHn3V7jKi0G"
      },
      "source": [
        "data = nltk.sent_tokenize(raw)"
      ],
      "execution_count": 5,
      "outputs": []
    },
    {
      "cell_type": "code",
      "metadata": {
        "id": "vek1R0yYLXXH"
      },
      "source": [
        "data = ''.join(data)"
      ],
      "execution_count": 6,
      "outputs": []
    },
    {
      "cell_type": "code",
      "metadata": {
        "colab": {
          "base_uri": "https://localhost:8080/"
        },
        "id": "n9eIT5vuJL2c",
        "outputId": "7dab5b80-f8cc-4d73-8d76-af8b687b8194"
      },
      "source": [
        "clean_data = []\n",
        "\n",
        "for word in nltk.word_tokenize(data):\n",
        "\n",
        "  if word not in punct:\n",
        "\n",
        "    if word not in stop_words:\n",
        "\n",
        "      if len(word)>1:\n",
        "\n",
        "        if not word.isnumeric():\n",
        "\n",
        "          while word.startswith(tuple(punct)):\n",
        "\n",
        "              word = word[1:]\n",
        "          \n",
        "          while word.endswith(tuple(punct)):\n",
        "\n",
        "              word = word[:-1]\n",
        "\n",
        "          if list(punct) not in list(word):\n",
        "\n",
        "            if len(word)>1:\n",
        "            \n",
        "              clean_data.append(lemma.lemmatize(word))\n",
        "              #clean_data.append(Snowball.stem(word))\n",
        "\n",
        "\n",
        "clean_data = [word.lower() for word in clean_data ]\n",
        "\n",
        "fdist = nltk.FreqDist(clean_data)\n",
        "\n",
        "for word, frequency in fdist.most_common(30):\n",
        "  print(f'{word} : {frequency}')"
      ],
      "execution_count": 7,
      "outputs": [
        {
          "output_type": "stream",
          "text": [
            "avengers : 305\n",
            "original : 215\n",
            "retrieved : 213\n",
            "the : 208\n",
            "film : 207\n",
            "april : 205\n",
            "endgame : 194\n",
            "may : 131\n",
            "marvel : 96\n",
            "war : 78\n",
            "infinity : 75\n",
            "million : 74\n",
            "mw-parser-output : 72\n",
            "june : 56\n",
            "december : 49\n",
            "set : 49\n",
            "new : 48\n",
            "march : 46\n",
            "anthony : 42\n",
            "february : 41\n",
            "captain : 40\n",
            "films : 39\n",
            "time : 39\n",
            "first : 39\n",
            "january : 37\n",
            "hollywood : 37\n",
            "thor : 36\n",
            "character : 36\n",
            "september : 35\n",
            "october : 35\n"
          ],
          "name": "stdout"
        }
      ]
    }
  ]
}