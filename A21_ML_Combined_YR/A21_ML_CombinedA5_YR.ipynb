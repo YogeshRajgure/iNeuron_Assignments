{
  "nbformat": 4,
  "nbformat_minor": 0,
  "metadata": {
    "colab": {
      "name": "A21_ML_CombinedA5_YR.ipynb",
      "provenance": [],
      "mount_file_id": "1pSTKjc-Z6OlCfWpGBNeygHwy8kmMegGZ",
      "authorship_tag": "ABX9TyO5Kjwl8Pl3uqqQQc97ayKo",
      "include_colab_link": true
    },
    "kernelspec": {
      "name": "python3",
      "display_name": "Python 3"
    },
    "language_info": {
      "name": "python"
    }
  },
  "cells": [
    {
      "cell_type": "markdown",
      "metadata": {
        "id": "view-in-github",
        "colab_type": "text"
      },
      "source": [
        "<a href=\"https://colab.research.google.com/github/YogeshRajgure/iNeuron_Assignments/blob/main/A21_ML_Combined_YR/A21_ML_CombinedA5_YR.ipynb\" target=\"_parent\"><img src=\"https://colab.research.google.com/assets/colab-badge.svg\" alt=\"Open In Colab\"/></a>"
      ]
    },
    {
      "cell_type": "markdown",
      "metadata": {
        "id": "GyCLN1OFvey2"
      },
      "source": [
        "# Assignment 5"
      ]
    },
    {
      "cell_type": "markdown",
      "metadata": {
        "id": "bePah55Rvjov"
      },
      "source": [
        "In this assignment students have to make ARIMA model over shampoo sales\n",
        "data and check the MSE between predicted and actual value."
      ]
    },
    {
      "cell_type": "code",
      "metadata": {
        "colab": {
          "base_uri": "https://localhost:8080/"
        },
        "id": "O5yRFVCIuF04",
        "outputId": "060c2144-26af-4b98-e814-79948c732cda"
      },
      "source": [
        "import pandas as pd\n",
        "import numpy as np\n",
        "import matplotlib.pyplot as plt\n",
        "from statsmodels.tsa.arima_model import ARIMA\n",
        "from sklearn.metrics import mean_squared_error\n",
        "import datetime"
      ],
      "execution_count": 1,
      "outputs": [
        {
          "output_type": "stream",
          "text": [
            "/usr/local/lib/python3.7/dist-packages/statsmodels/tools/_testing.py:19: FutureWarning: pandas.util.testing is deprecated. Use the functions in the public API at pandas.testing instead.\n",
            "  import pandas.util.testing as tm\n"
          ],
          "name": "stderr"
        }
      ]
    },
    {
      "cell_type": "code",
      "metadata": {
        "id": "SNRzEAI_xyQp"
      },
      "source": [
        "series = pd.read_csv('/content/drive/MyDrive/Colab Notebooks/data/sales_data_for_3_yrs.csv',\n",
        "                     header=0,\n",
        "                     parse_dates=True,\n",
        "                     index_col='Month')"
      ],
      "execution_count": 2,
      "outputs": []
    },
    {
      "cell_type": "code",
      "metadata": {
        "id": "4_q8drgmxsU2"
      },
      "source": [
        "def parser(x):\n",
        "    return datetime.strptime('190'+x, '%Y-%m')"
      ],
      "execution_count": 3,
      "outputs": []
    },
    {
      "cell_type": "code",
      "metadata": {
        "colab": {
          "base_uri": "https://localhost:8080/",
          "height": 234
        },
        "id": "-K1OeMm_yH80",
        "outputId": "a1471577-6236-42b1-de96-71ccb0f9ff9d"
      },
      "source": [
        "series.head()\n"
      ],
      "execution_count": 4,
      "outputs": [
        {
          "output_type": "execute_result",
          "data": {
            "text/html": [
              "<div>\n",
              "<style scoped>\n",
              "    .dataframe tbody tr th:only-of-type {\n",
              "        vertical-align: middle;\n",
              "    }\n",
              "\n",
              "    .dataframe tbody tr th {\n",
              "        vertical-align: top;\n",
              "    }\n",
              "\n",
              "    .dataframe thead th {\n",
              "        text-align: right;\n",
              "    }\n",
              "</style>\n",
              "<table border=\"1\" class=\"dataframe\">\n",
              "  <thead>\n",
              "    <tr style=\"text-align: right;\">\n",
              "      <th></th>\n",
              "      <th>Sales of shampoo over a three year period</th>\n",
              "    </tr>\n",
              "    <tr>\n",
              "      <th>Month</th>\n",
              "      <th></th>\n",
              "    </tr>\n",
              "  </thead>\n",
              "  <tbody>\n",
              "    <tr>\n",
              "      <th>01-Jan</th>\n",
              "      <td>266.0</td>\n",
              "    </tr>\n",
              "    <tr>\n",
              "      <th>01-Feb</th>\n",
              "      <td>145.9</td>\n",
              "    </tr>\n",
              "    <tr>\n",
              "      <th>01-Mar</th>\n",
              "      <td>183.1</td>\n",
              "    </tr>\n",
              "    <tr>\n",
              "      <th>01-Apr</th>\n",
              "      <td>119.3</td>\n",
              "    </tr>\n",
              "    <tr>\n",
              "      <th>01-May</th>\n",
              "      <td>180.3</td>\n",
              "    </tr>\n",
              "  </tbody>\n",
              "</table>\n",
              "</div>"
            ],
            "text/plain": [
              "        Sales of shampoo over a three year period\n",
              "Month                                            \n",
              "01-Jan                                      266.0\n",
              "01-Feb                                      145.9\n",
              "01-Mar                                      183.1\n",
              "01-Apr                                      119.3\n",
              "01-May                                      180.3"
            ]
          },
          "metadata": {},
          "execution_count": 4
        }
      ]
    },
    {
      "cell_type": "code",
      "metadata": {
        "id": "l_d3-6q2yKfx"
      },
      "source": [
        "series = series.dropna()"
      ],
      "execution_count": 5,
      "outputs": []
    },
    {
      "cell_type": "code",
      "metadata": {
        "colab": {
          "base_uri": "https://localhost:8080/",
          "height": 280
        },
        "id": "8G1ZsGqryM_m",
        "outputId": "6ba83db9-0a3f-4b36-9915-5dfa17f5f361"
      },
      "source": [
        "series.plot()\n",
        "plt.show()"
      ],
      "execution_count": 6,
      "outputs": [
        {
          "output_type": "display_data",
          "data": {
            "image/png": "[encoded data removed]",
            "text/plain": [
              "<Figure size 432x288 with 1 Axes>"
            ]
          },
          "metadata": {
            "needs_background": "light"
          }
        }
      ]
    },
    {
      "cell_type": "markdown",
      "metadata": {
        "id": "qV33ogY3yQvP"
      },
      "source": [
        "From here we can see that Shampoo sales data has a clear trend, that means time series is not stationary and will require differencing to make it stationary."
      ]
    },
    {
      "cell_type": "code",
      "metadata": {
        "colab": {
          "base_uri": "https://localhost:8080/"
        },
        "id": "KHCMT8ReyOaa",
        "outputId": "ccd08992-39de-4f8b-a03a-2ffa75acf50e"
      },
      "source": [
        "X = series.values\n",
        "X"
      ],
      "execution_count": 8,
      "outputs": [
        {
          "output_type": "execute_result",
          "data": {
            "text/plain": [
              "array([[266. ],\n",
              "       [145.9],\n",
              "       [183.1],\n",
              "       [119.3],\n",
              "       [180.3],\n",
              "       [168.5],\n",
              "       [231.8],\n",
              "       [224.5],\n",
              "       [192.8],\n",
              "       [122.9],\n",
              "       [336.5],\n",
              "       [185.9],\n",
              "       [194.3],\n",
              "       [149.5],\n",
              "       [210.1],\n",
              "       [273.3],\n",
              "       [191.4],\n",
              "       [287. ],\n",
              "       [226. ],\n",
              "       [303.6],\n",
              "       [289.9],\n",
              "       [421.6],\n",
              "       [264.5],\n",
              "       [342.3],\n",
              "       [339.7],\n",
              "       [440.4],\n",
              "       [315.9],\n",
              "       [439.3],\n",
              "       [401.3],\n",
              "       [437.4],\n",
              "       [575.5],\n",
              "       [407.6],\n",
              "       [682. ],\n",
              "       [475.3],\n",
              "       [581.3],\n",
              "       [646.9]])"
            ]
          },
          "metadata": {},
          "execution_count": 8
        }
      ]
    },
    {
      "cell_type": "code",
      "metadata": {
        "colab": {
          "base_uri": "https://localhost:8080/"
        },
        "id": "HFi0tJQnyVfS",
        "outputId": "d017c7c9-5225-4ad0-ecb6-7499b2d26929"
      },
      "source": [
        "size = int(len(X) * 0.60)\n",
        "print(len(X))\n",
        "print(size)"
      ],
      "execution_count": 9,
      "outputs": [
        {
          "output_type": "stream",
          "text": [
            "36\n",
            "21\n"
          ],
          "name": "stdout"
        }
      ]
    },
    {
      "cell_type": "code",
      "metadata": {
        "id": "f_M9MpA4ykAX"
      },
      "source": [
        "# performing train test split"
      ],
      "execution_count": 11,
      "outputs": []
    },
    {
      "cell_type": "code",
      "metadata": {
        "id": "F2ZAQafOyauu"
      },
      "source": [
        "train, test = X[0:size], X[size:len(X)]"
      ],
      "execution_count": 10,
      "outputs": []
    },
    {
      "cell_type": "code",
      "metadata": {
        "colab": {
          "base_uri": "https://localhost:8080/"
        },
        "id": "SNAM5rCmyjVx",
        "outputId": "cf9a43eb-21a3-4e74-a499-b4accb11d91c"
      },
      "source": [
        "history = [x for x in train]\n",
        "predictions = list()\n",
        "\n",
        "for t in range(len(test)):\n",
        "    arima = ARIMA(history,order=(5,1,0))\n",
        "    arima_model = arima.fit(disp=0)\n",
        "    output = arima_model.forecast()\n",
        "    yhat = output[0]\n",
        "    predictions.append(yhat)\n",
        "    obs = test[t]\n",
        "    history.append(obs)\n",
        "    print(f'Predicted={yhat},Expected ={obs}')\n",
        "\n",
        "error = mean_squared_error(test,predictions)\n",
        "\n",
        "print(f\"TEST MSE :{error}\")"
      ],
      "execution_count": 14,
      "outputs": [
        {
          "output_type": "stream",
          "text": [
            "Predicted=[272.96448852],Expected =[421.6]\n",
            "Predicted=[290.31373201],Expected =[264.5]\n",
            "Predicted=[349.11777313],Expected =[342.3]\n",
            "Predicted=[306.51298855],Expected =[339.7]\n",
            "Predicted=[387.37641812],Expected =[440.4]\n",
            "Predicted=[348.15413193],Expected =[315.9]\n",
            "Predicted=[386.30878001],Expected =[439.3]\n",
            "Predicted=[356.08203151],Expected =[401.3]\n",
            "Predicted=[446.37950029],Expected =[437.4]\n",
            "Predicted=[394.7372418],Expected =[575.5]\n",
            "Predicted=[434.91552364],Expected =[407.6]\n",
            "Predicted=[507.92341154],Expected =[682.]\n",
            "Predicted=[435.48287297],Expected =[475.3]\n",
            "Predicted=[652.74376206],Expected =[581.3]\n",
            "Predicted=[546.34351034],Expected =[646.9]\n",
            "TEST MSE :7547.807475966112\n"
          ],
          "name": "stdout"
        }
      ]
    },
    {
      "cell_type": "code",
      "metadata": {
        "colab": {
          "base_uri": "https://localhost:8080/",
          "height": 268
        },
        "id": "7Jh-FYAaytI9",
        "outputId": "211e5b39-7dbc-44c9-cd1e-7ba74ecbb0be"
      },
      "source": [
        "plt.plot(test)\n",
        "plt.plot(predictions, color='red')\n",
        "plt.show()"
      ],
      "execution_count": 15,
      "outputs": [
        {
          "output_type": "display_data",
          "data": {
            "image/png": "[encoded data removed]",
            "text/plain": [
              "<Figure size 432x288 with 1 Axes>"
            ]
          },
          "metadata": {
            "needs_background": "light"
          }
        }
      ]
    },
    {
      "cell_type": "code",
      "metadata": {
        "colab": {
          "base_uri": "https://localhost:8080/"
        },
        "id": "rOuOQEVuzLUZ",
        "outputId": "e182017d-c1cf-413e-ab93-642282c5aa14"
      },
      "source": [
        "print(f\"TEST MSE :{error}\")"
      ],
      "execution_count": 16,
      "outputs": [
        {
          "output_type": "stream",
          "text": [
            "TEST MSE :7547.807475966112\n"
          ],
          "name": "stdout"
        }
      ]
    },
    {
      "cell_type": "code",
      "metadata": {
        "id": "hmx4fi91zNpd"
      },
      "source": [
        ""
      ],
      "execution_count": null,
      "outputs": []
    }
  ]
}