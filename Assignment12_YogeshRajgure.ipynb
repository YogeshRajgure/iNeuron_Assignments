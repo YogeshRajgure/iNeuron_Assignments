{
  "nbformat": 4,
  "nbformat_minor": 0,
  "metadata": {
    "colab": {
      "name": "Assignment12_YogeshRajgure.ipynb",
      "provenance": [],
      "collapsed_sections": [],
      "authorship_tag": "ABX9TyM89qni5Bsan74D4zbnLfcK",
      "include_colab_link": true
    },
    "kernelspec": {
      "name": "python3",
      "display_name": "Python 3"
    },
    "language_info": {
      "name": "python"
    }
  },
  "cells": [
    {
      "cell_type": "markdown",
      "metadata": {
        "id": "view-in-github",
        "colab_type": "text"
      },
      "source": [
        "<a href=\"https://colab.research.google.com/github/YogeshRajgure/iNeuron_Assignments/blob/main/Assignment12_YogeshRajgure.ipynb\" target=\"_parent\"><img src=\"https://colab.research.google.com/assets/colab-badge.svg\" alt=\"Open In Colab\"/></a>"
      ]
    },
    {
      "cell_type": "markdown",
      "metadata": {
        "id": "SQQu0fxYf6Bv"
      },
      "source": [
        "# **Stats 3 Assignments**"
      ]
    },
    {
      "cell_type": "code",
      "metadata": {
        "id": "GP5xLlLSfyP8"
      },
      "source": [
        "import scipy.stats as sts\n",
        "from scipy.stats import norm\n",
        "import math\n",
        "import numpy as np"
      ],
      "execution_count": null,
      "outputs": []
    },
    {
      "cell_type": "markdown",
      "metadata": {
        "id": "mhg-kRfgOXd_"
      },
      "source": [
        "# **Problem Statement 1:**\n",
        "\n",
        "###Blood glucose levels for obese patients have a mean of 100 with a standard deviation of 15.A researcher thinks that a diet high in raw cornstarch will have a positive effect on blood glucose levels. A sample of 36 patients who have tried the raw cornstarch diet have a mean glucose level of 108. Test the hypothesis that the raw cornstarch had an effect or not."
      ]
    },
    {
      "cell_type": "code",
      "metadata": {
        "colab": {
          "base_uri": "https://localhost:8080/"
        },
        "id": "AJqih92jOWq3",
        "outputId": "05c4dba8-640e-40f3-f97f-f74b615ac404"
      },
      "source": [
        "p_mean = 100\n",
        "p_std = 15\n",
        "n = 36\n",
        "sample_mean = 108\n",
        "alpha = 0.05\n",
        "\n",
        "SE = p_std/n**0.5\n",
        "print(f\"SE: {SE}\")\n",
        "Z = (sample_mean-p_mean)/SE\n",
        "print(f\"Z_score: {Z}\")\n",
        "# by looking at z- table and p-value associated with 3.20 is 0.9993 \n",
        "# The probability of having value less than 108 is 0.9993 and more than or equals to 108 is (1-0.9993)=0.0007.\n"
      ],
      "execution_count": null,
      "outputs": [
        {
          "output_type": "stream",
          "text": [
            "SE: 2.5\n",
            "Z_score: 3.2\n"
          ],
          "name": "stdout"
        }
      ]
    },
    {
      "cell_type": "markdown",
      "metadata": {
        "id": "nCDzI-WfP8j3"
      },
      "source": [
        "\n",
        "\n",
        "---\n",
        "\n",
        "**Sice the probability of having mean glucose level more than or equals to 108  is 0.0007 which is  less than 0.05 . \n",
        "So we will reject the Null hypothesis i.e. there is raw cornstarch effect.**\n",
        "\n",
        "---\n",
        "\n"
      ]
    },
    {
      "cell_type": "code",
      "metadata": {
        "id": "f7JzXpvDPYf_"
      },
      "source": [
        ""
      ],
      "execution_count": null,
      "outputs": []
    },
    {
      "cell_type": "markdown",
      "metadata": {
        "id": "UiA1A9rVf5KB"
      },
      "source": [
        "# **Problem Statement 2:**\n",
        "\n",
        "###In one state, 52% of the voters are Republicans, and 48% are Democrats. In a second state, 47% of the voters are Republicans, and 53% are Democrats. Suppose a simple random sample of 100 voters are surveyed from each state.\n",
        "###What is the probability that the survey will show a greater percentage of Republican voters in the second state than in the first state?"
      ]
    },
    {
      "cell_type": "code",
      "metadata": {
        "colab": {
          "base_uri": "https://localhost:8080/"
        },
        "id": "YrkUMwwlQF1W",
        "outputId": "515e5240-41ba-410e-e76a-ed3389bbc4c1"
      },
      "source": [
        "n1 = 100\n",
        "n2 = 100\n",
        "R1 = 0.52            #Republicans from state 1\n",
        "D1 = 0.48            #Democrats from state 1\n",
        "R2 = 0.47            #Republicans from state 2\n",
        "D2 = 0.53            #Democrats from state 2\n",
        "\n",
        "mu = R1 - R2\n",
        "print(f\"mu: {mu}\")\n",
        "std = math.sqrt(((R1 * D1 ) / n1) + ((R2 * D2) /n2))\n",
        "print(f\"std: {std}\")\n",
        "\n",
        "#This problem requires us to find the probability that p1 is less than p2. \n",
        "#This is equivalent to finding the probability that R1 - R2 < 0. \n",
        "x = 0\n",
        "#To find this probability, we need to transform the random variable (R1 - R2) into a z-score. \n",
        "#That transformation appears below.\n",
        "\n",
        "Z_R1_R2 = ( x - mu)/std\n",
        "print(f\"Z_p1_p2 : {Z_R1_R2}\")"
      ],
      "execution_count": null,
      "outputs": [
        {
          "output_type": "stream",
          "text": [
            "mu: 0.050000000000000044\n",
            "std: 0.07061869440877536\n",
            "Z_p1_p2 : -0.7080278164104213\n"
          ],
          "name": "stdout"
        }
      ]
    },
    {
      "cell_type": "markdown",
      "metadata": {
        "id": "nnlLBkUhQLjn"
      },
      "source": [
        "\n",
        "\n",
        "---\n",
        "\n",
        "**From Z table we find that the probability of a z-score being -0.7082 or less is 0.24.**\n",
        "\n",
        "**Therefore, the probability that the survey will show a greater percentage of Republican voters \n",
        "in the second state than in the first state is 0.24**\n",
        "\n",
        "---\n",
        "\n"
      ]
    },
    {
      "cell_type": "code",
      "metadata": {
        "id": "p7KyHWDNPMcP"
      },
      "source": [
        ""
      ],
      "execution_count": null,
      "outputs": []
    },
    {
      "cell_type": "markdown",
      "metadata": {
        "id": "oRa4h54tPNZf"
      },
      "source": [
        "# **Problem Statement 3:**\n",
        "###You take the SAT and score 1100. The mean score for the SAT is 1026 and the standard deviation is 209. How well did you score on the test compared to the average test taker?"
      ]
    },
    {
      "cell_type": "code",
      "metadata": {
        "colab": {
          "base_uri": "https://localhost:8080/"
        },
        "id": "leMI_AAURESk",
        "outputId": "52d8e7d3-07d3-4c8f-d222-7c91c178fd6b"
      },
      "source": [
        "#The z score tells you how many standard deviations from the mean your score is\n",
        "x = 1100 #\n",
        "mu = 1026 # Population Mean\n",
        "sd = 209 #population standard deviation\n",
        "z = ( x - mu)/sd\n",
        "print(\"Z Score : \",z)\n",
        "#the above calculation shows that my score is 0.35 standard deviations above the mean\n",
        "print(\"My Score is in the range {} - {}  with a  zscore {:.2f}\".format(mu - sd,mu + sd,z))"
      ],
      "execution_count": null,
      "outputs": [
        {
          "output_type": "stream",
          "text": [
            "Z Score :  0.35406698564593303\n",
            "My Score is in the range 817 - 1235  with a  zscore 0.35\n"
          ],
          "name": "stdout"
        }
      ]
    },
    {
      "cell_type": "code",
      "metadata": {
        "id": "I_pxWR9jPRTT"
      },
      "source": [
        ""
      ],
      "execution_count": null,
      "outputs": []
    }
  ]
}