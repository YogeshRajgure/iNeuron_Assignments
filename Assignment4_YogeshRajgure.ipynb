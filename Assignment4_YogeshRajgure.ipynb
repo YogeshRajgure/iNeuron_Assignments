{
  "nbformat": 4,
  "nbformat_minor": 0,
  "metadata": {
    "colab": {
      "name": "Assignment4_YogeshRajgure.ipynb",
      "provenance": [],
      "collapsed_sections": [],
      "authorship_tag": "ABX9TyOdpo3N2DDGXdOoVEJSb5Nh",
      "include_colab_link": true
    },
    "kernelspec": {
      "name": "python3",
      "display_name": "Python 3"
    }
  },
  "cells": [
    {
      "cell_type": "markdown",
      "metadata": {
        "id": "view-in-github",
        "colab_type": "text"
      },
      "source": [
        "<a href=\"https://colab.research.google.com/github/YogeshRajgure/iNeuron_Assignments/blob/main/Assignment4_YogeshRajgure.ipynb\" target=\"_parent\"><img src=\"https://colab.research.google.com/assets/colab-badge.svg\" alt=\"Open In Colab\"/></a>"
      ]
    },
    {
      "cell_type": "markdown",
      "metadata": {
        "id": "jsVKNj_BP7dW"
      },
      "source": [
        "### **1.1 Write a Python Program(with class concepts) to find the area of the triangle using the below formula.**\n",
        "\n",
        "area = (s*(s-a)*(s-b)*(s-c)) ** 0.5\n",
        "\n",
        "Function to take the length of the sides of triangle from user should be defined in the parent class and function to calculate the area should be defined in subclass.\n"
      ]
    },
    {
      "cell_type": "code",
      "metadata": {
        "colab": {
          "base_uri": "https://localhost:8080/"
        },
        "id": "-khkIIRTPL13",
        "outputId": "394bcda3-75d5-464e-8bea-d81132991684"
      },
      "source": [
        "class shape_area:\n",
        "  def __init__(self):\n",
        "    self.a = int(input(\"enter side 1 : \"))\n",
        "    self.b = int(input(\"enter side 2 : \"))\n",
        "    self.c = int(input(\"enter side 3 : \"))\n",
        "\n",
        "class triangle(shape_area):\n",
        "  def __init__(self):\n",
        "    super().__init__()\n",
        "\n",
        "  def mmm(self):\n",
        "    self.s = (self.a + self.b + self.c) / 2\n",
        "    self.area = (self.s*(self.s-self.a)*(self.s-self.b)*(self.s-self.c)) ** 0.5  \n",
        "    return self.area\n",
        "\n",
        "t = triangle()\n",
        "a = t.mmm()\n",
        "print(a)\n"
      ],
      "execution_count": null,
      "outputs": [
        {
          "output_type": "stream",
          "text": [
            "enter side 1 : 5\n",
            "enter side 2 : 3\n",
            "enter side 3 : 6\n",
            "7.483314773547883\n"
          ],
          "name": "stdout"
        }
      ]
    },
    {
      "cell_type": "markdown",
      "metadata": {
        "id": "R_4D03gwZOwM"
      },
      "source": [
        "### **1.2 Write a function filter_long_words() that takes a list of words and an integer n and returns the list of words that are longer than n.**"
      ]
    },
    {
      "cell_type": "code",
      "metadata": {
        "colab": {
          "base_uri": "https://localhost:8080/"
        },
        "id": "m1jj-ZCESbhf",
        "outputId": "6b677548-262f-44f9-a5d4-fc351800d2c5"
      },
      "source": [
        "def filter_long_words(word_list, n) :\n",
        "\n",
        "  return list(filter(lambda x: len(x) > n, word_list))\n",
        "\n",
        "#testing\n",
        "lis = [\"yogesh\", \"pm\", \"jan\", \"vicky\"]\n",
        "filter_long_words(lis , 4)"
      ],
      "execution_count": null,
      "outputs": [
        {
          "output_type": "execute_result",
          "data": {
            "text/plain": [
              "['yogesh', 'vicky']"
            ]
          },
          "metadata": {
            "tags": []
          },
          "execution_count": 29
        }
      ]
    },
    {
      "cell_type": "markdown",
      "metadata": {
        "id": "LA77w9Z8cV8n"
      },
      "source": [
        "### **2.1 Write a Python program using function concept that maps list of words into a list of integers representing the lengths of the corresponding words.**\n",
        "Hint: If a list [ ab,cde,erty] is passed on to the python function output should come as [2,3,4]\n",
        "Here 2,3 and 4 are the lengths of the words in the list."
      ]
    },
    {
      "cell_type": "code",
      "metadata": {
        "colab": {
          "base_uri": "https://localhost:8080/"
        },
        "id": "gundMbWZScLM",
        "outputId": "99e1eac3-9196-4cad-a4e5-b7f53ad7a10e"
      },
      "source": [
        "def word_to_num(lis) :\n",
        "\n",
        "  return list(map(lambda x: len(x), lis))\n",
        "\n",
        "#testing\n",
        "a = [\"sdvfs\",\"sfvef\",\"dfvvrevdf\"]\n",
        "word_to_num(a)"
      ],
      "execution_count": null,
      "outputs": [
        {
          "output_type": "execute_result",
          "data": {
            "text/plain": [
              "[5, 5, 9]"
            ]
          },
          "metadata": {
            "tags": []
          },
          "execution_count": 30
        }
      ]
    },
    {
      "cell_type": "markdown",
      "metadata": {
        "id": "N2FxzaYeenaB"
      },
      "source": [
        "### **2.2 Write a Python function which takes a character (i.e. a string of length 1) and returns True if it is a vowel, False otherwise.**"
      ]
    },
    {
      "cell_type": "code",
      "metadata": {
        "colab": {
          "base_uri": "https://localhost:8080/"
        },
        "id": "TzIfhfKPbgAk",
        "outputId": "6128d060-f079-4c73-9de9-c3eb9b8f541c"
      },
      "source": [
        "def isvowel(ch) :\n",
        "  if ch in [\"a\",\"e\",\"i\",\"o\",\"u\"] :\n",
        "    return True\n",
        "  else : return False\n",
        "\n",
        "isvowel('c')"
      ],
      "execution_count": null,
      "outputs": [
        {
          "output_type": "execute_result",
          "data": {
            "text/plain": [
              "False"
            ]
          },
          "metadata": {
            "tags": []
          },
          "execution_count": 35
        }
      ]
    },
    {
      "cell_type": "code",
      "metadata": {
        "id": "GsNqBZGbezPg"
      },
      "source": [
        ""
      ],
      "execution_count": null,
      "outputs": []
    }
  ]
}