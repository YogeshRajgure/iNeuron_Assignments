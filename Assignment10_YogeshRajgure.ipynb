{
  "nbformat": 4,
  "nbformat_minor": 0,
  "metadata": {
    "colab": {
      "name": "Assignment10_YogeshRajgure.ipynb",
      "provenance": [],
      "collapsed_sections": [],
      "authorship_tag": "ABX9TyOtgxd18nRIVxrSvbS6tAzE",
      "include_colab_link": true
    },
    "kernelspec": {
      "name": "python3",
      "display_name": "Python 3"
    },
    "language_info": {
      "name": "python"
    }
  },
  "cells": [
    {
      "cell_type": "markdown",
      "metadata": {
        "id": "view-in-github",
        "colab_type": "text"
      },
      "source": [
        "<a href=\"https://colab.research.google.com/github/YogeshRajgure/iNeuron_Assignments/blob/main/Assignment10_YogeshRajgure.ipynb\" target=\"_parent\"><img src=\"https://colab.research.google.com/assets/colab-badge.svg\" alt=\"Open In Colab\"/></a>"
      ]
    },
    {
      "cell_type": "markdown",
      "metadata": {
        "id": "qAGAqw-Cl1c7"
      },
      "source": [
        "### **Stats Assignment 1**"
      ]
    },
    {
      "cell_type": "code",
      "metadata": {
        "id": "iUnTJvZ-lql-"
      },
      "source": [
        "import pandas as pd\n",
        "import numpy as np\n",
        "import scipy.stats as st\n",
        "import matplotlib.pyplot as plt\n",
        "%matplotlib inline\n",
        "import math\n",
        "import statistics\n",
        "import os\n",
        "import sys"
      ],
      "execution_count": null,
      "outputs": []
    },
    {
      "cell_type": "markdown",
      "metadata": {
        "id": "fWlroD9Fl0jK"
      },
      "source": [
        "## Calculate the mean, median, mode and standard deviation for the problem statements 1& 2."
      ]
    },
    {
      "cell_type": "markdown",
      "metadata": {
        "id": "3D2kYkStZ6-S"
      },
      "source": [
        "# Problem Statement 1:\n",
        "The marks awarded for an assignment set for a Year 8 class of 20 students were as\n",
        "follows:\\\n",
        "6 7 5 7 7 8 7 6 9 7 4 10 6 8 8 9 5 6 4 8"
      ]
    },
    {
      "cell_type": "code",
      "metadata": {
        "id": "RjE9L_vZZzxr"
      },
      "source": [
        "a = [6, 7, 5, 7, 7, 8, 7, 6, 9, 7, 4, 10, 6, 8, 8, 9, 5, 6, 4, 8]"
      ],
      "execution_count": null,
      "outputs": []
    },
    {
      "cell_type": "code",
      "metadata": {
        "colab": {
          "base_uri": "https://localhost:8080/"
        },
        "id": "UtfXOM8warZ3",
        "outputId": "203ff6e2-da5e-4dd4-e28a-0c9382f6ceb8"
      },
      "source": [
        "print(f\"          Mean : { np.mean(a) }\")\n",
        "print(f\"        Median : { np.median(a) }\")\n",
        "print(f\"          Mode : { st.mode(a)[0][0] }\")\n",
        "print(f\"Std. Deviation : { np.std(a) }\")"
      ],
      "execution_count": null,
      "outputs": [
        {
          "output_type": "stream",
          "text": [
            "          Mean : 6.85\n",
            "        Median : 7.0\n",
            "          Mode : 7\n",
            "Std. Deviation : 1.5898113095584647\n"
          ],
          "name": "stdout"
        }
      ]
    },
    {
      "cell_type": "code",
      "metadata": {
        "colab": {
          "base_uri": "https://localhost:8080/"
        },
        "id": "fHqrvrnqatZb",
        "outputId": "481acb36-7e17-48b9-a3ab-5d9988d8e92a"
      },
      "source": [
        "from collections import Counter\n",
        "Counter(a)"
      ],
      "execution_count": null,
      "outputs": [
        {
          "output_type": "execute_result",
          "data": {
            "text/plain": [
              "Counter({4: 2, 5: 2, 6: 4, 7: 5, 8: 4, 9: 2, 10: 1})"
            ]
          },
          "metadata": {
            "tags": []
          },
          "execution_count": 6
        }
      ]
    },
    {
      "cell_type": "code",
      "metadata": {
        "id": "fUTgVonga_B5"
      },
      "source": [
        ""
      ],
      "execution_count": null,
      "outputs": []
    },
    {
      "cell_type": "markdown",
      "metadata": {
        "id": "V-8uj3Lza4eO"
      },
      "source": [
        "# Problem Statement 2:\n",
        "The number of calls from motorists per day for roadside service was recorded for a particular month:\\\n",
        "28, 122, 217, 130, 120, 86, 80, 90, 140, 120, 70, 40, 145, 113, 90, 68, 174, 194, 170, 100, 75, 104, 97, 75, 123, 100, 75, 104, 97, 75, 123, 100, 89, 120, 109"
      ]
    },
    {
      "cell_type": "code",
      "metadata": {
        "id": "TVUt5iVIa4Ek"
      },
      "source": [
        "no_of_calls = [28, 122, 217, 130, 120, 86, 80, 90, 140, 120, 70,40,\n",
        "     145, 113, 90, 68, 174, 194, 170, 100, 75, 104, 97, 75,\n",
        "     123, 100, 75, 104, 97, 75, 123, 100, 89, 120, 109]"
      ],
      "execution_count": null,
      "outputs": []
    },
    {
      "cell_type": "code",
      "metadata": {
        "colab": {
          "base_uri": "https://localhost:8080/"
        },
        "id": "OIzwDBBuaxTr",
        "outputId": "90edda35-e102-40ac-c964-e4cca285c9a7"
      },
      "source": [
        "print(f\"          Mean : { np.mean(no_of_calls) }\")\n",
        "print(f\"        Median : { np.median(no_of_calls) }\")\n",
        "print(f\"          Mode : { st.mode(no_of_calls)[0][0] }\")\n",
        "print(f\"Std. Deviation : { np.std(no_of_calls) }\")"
      ],
      "execution_count": null,
      "outputs": [
        {
          "output_type": "stream",
          "text": [
            "          Mean : 107.51428571428572\n",
            "        Median : 100.0\n",
            "          Mode : 75\n",
            "Std. Deviation : 38.77287080168403\n"
          ],
          "name": "stdout"
        }
      ]
    },
    {
      "cell_type": "code",
      "metadata": {
        "id": "CUu86E4obg5P"
      },
      "source": [
        ""
      ],
      "execution_count": null,
      "outputs": []
    },
    {
      "cell_type": "markdown",
      "metadata": {
        "id": "ChwMlW-2bdK9"
      },
      "source": [
        "# Problem Statement 3:\n",
        "The number of times I go to the gym in weekdays, are given below along with its associated probability:\n",
        "\n",
        "x = 0, 1, 2, 3, 4, 5\n",
        "\n",
        "f(x) = 0.09, 0.15, 0.40, 0.25, 0.10, 0.01\n",
        "\n",
        "Calculate the mean no. of workouts in a week. Also evaluate the variance involved in it."
      ]
    },
    {
      "cell_type": "code",
      "metadata": {
        "id": "dZeWpgbmff-9"
      },
      "source": [
        "x = np.asarray([0,1,2,3,4,5])\n",
        "f_x = np.array([0.09,0.15,0.40,0.25,0.10,0.01])"
      ],
      "execution_count": null,
      "outputs": []
    },
    {
      "cell_type": "code",
      "metadata": {
        "colab": {
          "base_uri": "https://localhost:8080/"
        },
        "id": "AogFYY_Cff7m",
        "outputId": "9507e125-efa0-432f-a6c4-ebcb36d43a6d"
      },
      "source": [
        "x.reshape((1,-1))\n",
        "f_x.reshape((-1,1))\n",
        "mean=np.dot(x,f_x)\n",
        "variance_of_x=(x-mean)**2\n",
        "variance = np.dot(variance_of_x.reshape(1,-1),f_x)\n",
        "print(f\"Mean no. of workouts: {mean}\")\n",
        "print(f\"Variance of workouts: {variance[0]}\")"
      ],
      "execution_count": null,
      "outputs": [
        {
          "output_type": "stream",
          "text": [
            "Mean no. of workouts: 2.15\n",
            "Variance of workouts: 1.2275\n"
          ],
          "name": "stdout"
        }
      ]
    },
    {
      "cell_type": "code",
      "metadata": {
        "id": "6O9AZ_dybc5Z"
      },
      "source": [
        ""
      ],
      "execution_count": null,
      "outputs": []
    },
    {
      "cell_type": "markdown",
      "metadata": {
        "id": "jpbohmG4bnAs"
      },
      "source": [
        "# Problem Statement 4\n",
        "Let the continuous random variable D denote the diameter of the hole drilled in an aluminum sheet. The target diameter to be achieved is 12.5mm. \n",
        "Random disturbances in the process often result in inaccuracy.\n",
        "\n",
        "Historical data shows that the distribution of D can be modelled by the PDF (d) = 20e−20(d−12.5), d ≥ 12.5. \n",
        "\n",
        "If a part with diameter > 12.6 mm needs to be scrapped, what is the proportion of those parts? What is the CDF when the diameter is of 11 mm? What is your conclusion regarding the proportion of scraps?"
      ]
    },
    {
      "cell_type": "code",
      "metadata": {
        "id": "_Ye7kYcfgPSJ"
      },
      "source": [
        "from scipy import integrate"
      ],
      "execution_count": null,
      "outputs": []
    },
    {
      "cell_type": "code",
      "metadata": {
        "colab": {
          "base_uri": "https://localhost:8080/"
        },
        "id": "vUWWKowegPOt",
        "outputId": "85f20cdb-0ce0-4fcb-a59e-fd2ee5db36d8"
      },
      "source": [
        "#PDF (𝑑) = 20𝑒−20(𝑑−12.5)\n",
        "#𝑑 ≥ 12.5\n",
        "PDF=lambda d:20*(np.exp((-20*(d-12.5))))\n",
        "x = 12.6\n",
        "P_x=integrate.quad(PDF,12.6,np.inf)\n",
        "y = 11\n",
        "CDF=integrate.quad(PDF,-np.inf,y)\n",
        "print(f\"Proportion of Parts need to scrapped when d > 12.6mm is :{P_x[0]}\")\n",
        "print(f\"CDF when d = 11mm is:{CDF[0]}\")\n",
        "print(f\"Proportion of CDF when d > 12.5mm is : {integrate.quad(PDF,12.5,np.inf)[0]}\\n\\n\")\n"
      ],
      "execution_count": null,
      "outputs": [
        {
          "output_type": "stream",
          "text": [
            "Proportion of Parts need to scrapped when d > 12.6mm is :0.13533528323661398\n",
            "CDF when d = 11mm is:inf\n",
            "Proportion of CDF when d > 12.5mm is : 1.0000000000000024\n",
            "\n",
            "\n"
          ],
          "name": "stdout"
        },
        {
          "output_type": "stream",
          "text": [
            "/usr/local/lib/python3.7/dist-packages/ipykernel_launcher.py:3: RuntimeWarning: overflow encountered in exp\n",
            "  This is separate from the ipykernel package so we can avoid doing imports until\n"
          ],
          "name": "stderr"
        }
      ]
    },
    {
      "cell_type": "code",
      "metadata": {
        "id": "IGzfp1F0a2zS"
      },
      "source": [
        ""
      ],
      "execution_count": null,
      "outputs": []
    },
    {
      "cell_type": "markdown",
      "metadata": {
        "id": "vwqAWwvib2n5"
      },
      "source": [
        "# Problem Statement 5\n",
        "\n",
        "A company manufactures LED bulbs with a faulty rate of 30%. If I randomly select 6\n",
        "chosen LEDs, what is the probability of having 2 faulty LEDs in my sample?\n",
        "Calculate the average value of this process. Also evaluate the standard deviation\n",
        "associated with it."
      ]
    },
    {
      "cell_type": "code",
      "metadata": {
        "id": "HHA8I2TDb2LB"
      },
      "source": [
        "import scipy.special\n",
        "import seaborn as sns"
      ],
      "execution_count": null,
      "outputs": []
    },
    {
      "cell_type": "code",
      "metadata": {
        "id": "AUk7UUMHiUAF"
      },
      "source": [
        "#x = faulty = 0.3\n",
        "#y = not faulty = 0.7\n",
        "x = 0.3\n",
        "y = 0.7\n",
        "df=pd.DataFrame({'a':[int(i) for i in range(7)],\n",
        "                 'B_a':[scipy.special.comb(6,i)*(x**i)*(y**(6-i)) for i in range(7)]})"
      ],
      "execution_count": null,
      "outputs": []
    },
    {
      "cell_type": "code",
      "metadata": {
        "colab": {
          "base_uri": "https://localhost:8080/",
          "height": 313
        },
        "id": "upC_oI9LiT8i",
        "outputId": "feaf9d8b-b3d4-4217-b10c-fa7fc92d8c50"
      },
      "source": [
        "print(df.iloc[2])\n",
        "plt.figure(figsize=(15,5))\n",
        "print(f\"Figure shows that {'%.2f'%df.iloc[2][1]} is the probability of having 2 faulty LED in our sample. \")\n",
        "sns.barplot(x='a',y='B_a',data=df)\n",
        "plt.xlabel('Number of Faulty Leds')\n",
        "plt.ylabel('Probability of Fault')\n",
        "plt.show()\n"
      ],
      "execution_count": null,
      "outputs": [
        {
          "output_type": "stream",
          "text": [
            "a      2.000000\n",
            "B_a    0.324135\n",
            "Name: 2, dtype: float64\n",
            "Figure shows that 0.32 is the probability of having 2 faulty LED in our sample. \n"
          ],
          "name": "stdout"
        },
        {
          "output_type": "display_data",
          "data": {
            "image/png": "[encoded data removed]",
            "text/plain": [
              "<Figure size 1080x360 with 1 Axes>"
            ]
          },
          "metadata": {
            "tags": [],
            "needs_background": "light"
          }
        }
      ]
    },
    {
      "cell_type": "code",
      "metadata": {
        "colab": {
          "base_uri": "https://localhost:8080/"
        },
        "id": "VxB2bbUWix_f",
        "outputId": "2b548039-77bf-414d-f77d-8b333eb9f9f6"
      },
      "source": [
        "df['Expected value']=df['a']*df['B_a']\n",
        "mean=np.round(df['Expected value'].sum())\n",
        "print('mean = {}'.format(mean))\n",
        "df['variance']=df['B_a']*(df['a']-mean)**2\n",
        "std=np.sqrt(df['variance'].sum())\n",
        "print(f\"Standard Deviation = {np.round(std)}\")"
      ],
      "execution_count": null,
      "outputs": [
        {
          "output_type": "stream",
          "text": [
            "mean = 2.0\n",
            "Standard Deviation = 1.0\n"
          ],
          "name": "stdout"
        }
      ]
    },
    {
      "cell_type": "code",
      "metadata": {
        "id": "ZrdMATijj5tl"
      },
      "source": [
        ""
      ],
      "execution_count": null,
      "outputs": []
    },
    {
      "cell_type": "markdown",
      "metadata": {
        "id": "kAWk_nWtb_Vx"
      },
      "source": [
        "# Problem Statement 6\n",
        "\n",
        "Gaurav and Barakha are both preparing for entrance exams. Gaurav attempts to solve 8 questions per day with a correction rate of 75%, while Barakha averages around 12 questions per day with a correction rate of 45%. \n",
        "What is the probability that each of them will solve 5 questions correctly? \n",
        "\n",
        "What happens in cases of 4 and 6 correct solutions? \n",
        "What do you infer from it? What are the two main governing factors affecting their ability to solve questions correctly? Give a pictorial\n",
        "representation of the same to validate your answer."
      ]
    },
    {
      "cell_type": "code",
      "metadata": {
        "id": "KXq31Rw4wVc0"
      },
      "source": [
        "#Gaurav- avg=8,   p1=0.75\n",
        "#Barakha- avg=12, p2=0.45\n",
        "#here both the students are independent from each other, correction rate of one does not effect another one \n",
        "#G(5)*B(5)"
      ],
      "execution_count": null,
      "outputs": []
    },
    {
      "cell_type": "code",
      "metadata": {
        "colab": {
          "base_uri": "https://localhost:8080/"
        },
        "id": "YlMGcKoFwVZM",
        "outputId": "61d58e24-59ba-43b7-ece7-c0be3c76a853"
      },
      "source": [
        "from scipy.stats import binom\n",
        "\n",
        "print(f\"Probability of each of them solving 5 questions correctly is:\\n {binom.pmf(5,8,0.75)*binom.pmf(5,12,0.45)}\")\n",
        "print(f\"Probability of each of them solving 4 & 6 questions correctly is:\\n {binom.pmf(4,8,0.75)*binom.pmf(6,12,0.45)}\")"
      ],
      "execution_count": null,
      "outputs": [
        {
          "output_type": "stream",
          "text": [
            "Probability of each of them solving 5 questions correctly is:\n",
            " 0.04619989057299217\n",
            "Probability of each of them solving 4 & 6 questions correctly is:\n",
            " 0.018374956477894583\n"
          ],
          "name": "stdout"
        }
      ]
    },
    {
      "cell_type": "code",
      "metadata": {
        "id": "gXAy0OSHwVXk"
      },
      "source": [
        "#following graphs show their correction rates invidually and combined\n",
        "def binom_plot(n,p,):\n",
        "    fig,ax=plt.subplots(1,1)\n",
        "    x = np.arange(binom.ppf(0.01, n, p),binom.ppf(0.99, n, p))\n",
        "    ax.plot(x, binom.pmf(x, n, p), 'bo', ms=8, label='binom pmf')\n",
        "    ax.vlines(x, 0, binom.pmf(x, n, p), colors='b', lw=5, alpha=0.5)"
      ],
      "execution_count": null,
      "outputs": []
    },
    {
      "cell_type": "code",
      "metadata": {
        "colab": {
          "base_uri": "https://localhost:8080/",
          "height": 265
        },
        "id": "iDunv8cxwVVA",
        "outputId": "3eec8ee9-3599-4412-bf17-0de9bdc1fc0c"
      },
      "source": [
        "#Gaurav\n",
        "binom_plot(8,0.75)"
      ],
      "execution_count": null,
      "outputs": [
        {
          "output_type": "display_data",
          "data": {
            "image/png": "[encoded data removed]",
            "text/plain": [
              "<Figure size 432x288 with 1 Axes>"
            ]
          },
          "metadata": {
            "tags": [],
            "needs_background": "light"
          }
        }
      ]
    },
    {
      "cell_type": "code",
      "metadata": {
        "colab": {
          "base_uri": "https://localhost:8080/",
          "height": 265
        },
        "id": "Z8hE97P804mZ",
        "outputId": "b3119e62-b9ae-48a5-ca18-667ff0be273f"
      },
      "source": [
        "#Barakha\n",
        "binom_plot(12,0.45)"
      ],
      "execution_count": null,
      "outputs": [
        {
          "output_type": "display_data",
          "data": {
            "image/png": "[encoded data removed]",
            "text/plain": [
              "<Figure size 432x288 with 1 Axes>"
            ]
          },
          "metadata": {
            "tags": [],
            "needs_background": "light"
          }
        }
      ]
    },
    {
      "cell_type": "code",
      "metadata": {
        "colab": {
          "base_uri": "https://localhost:8080/",
          "height": 282
        },
        "id": "iUvtPFGT04ip",
        "outputId": "7e058530-54d2-4782-89f4-62836ad98930"
      },
      "source": [
        "fig,ax=plt.subplots(1,1)\n",
        "x = np.arange(1,11)\n",
        "ax.plot(x, binom.pmf(x,8,0.75)*binom.pmf(x,12,0.45), 'bo', ms=8, label='binom pmf')\n",
        "ax.vlines(x, 0, binom.pmf(x,8,0.75)*binom.pmf(x,12,0.45), colors='b', lw=5, alpha=0.5)\n",
        "#maximum combined probability observed at 6 question"
      ],
      "execution_count": null,
      "outputs": [
        {
          "output_type": "execute_result",
          "data": {
            "text/plain": [
              "<matplotlib.collections.LineCollection at 0x7f8a1bc85510>"
            ]
          },
          "metadata": {
            "tags": []
          },
          "execution_count": 22
        },
        {
          "output_type": "display_data",
          "data": {
            "image/png": "[encoded data removed]",
            "text/plain": [
              "<Figure size 432x288 with 1 Axes>"
            ]
          },
          "metadata": {
            "tags": [],
            "needs_background": "light"
          }
        }
      ]
    },
    {
      "cell_type": "code",
      "metadata": {
        "id": "zSnV6gKAb2Hk"
      },
      "source": [
        ""
      ],
      "execution_count": null,
      "outputs": []
    },
    {
      "cell_type": "markdown",
      "metadata": {
        "id": "W9TJ4xMPcBgx"
      },
      "source": [
        "# Problem Statement 7\n",
        "\n",
        "Customers arrive at a rate of 72 per hour to my shop. What is the probability of k customers arriving in 4 minutes? \n",
        "\n",
        "a) 5 customers, b) not more than 3 customers, c) more than 3 customers. \n",
        "\n",
        "Give a pictorial representation of the same to validate your answer."
      ]
    },
    {
      "cell_type": "code",
      "metadata": {
        "id": "gRm9og3L1bEy"
      },
      "source": [
        "from scipy.stats import poisson"
      ],
      "execution_count": null,
      "outputs": []
    },
    {
      "cell_type": "code",
      "metadata": {
        "id": "mWTwghCL1bBU"
      },
      "source": [
        "#We need to calculate average number of customers arriving per 4 minutes\n",
        "#72 customers come per 60 minutes\n",
        "#Hence, \n",
        "#72/60 = 1.2 customers come per minute.\n",
        "#number of customers in 4 minutes is:\n",
        "mu = 4 * (72/60)"
      ],
      "execution_count": null,
      "outputs": []
    },
    {
      "cell_type": "code",
      "metadata": {
        "colab": {
          "base_uri": "https://localhost:8080/"
        },
        "id": "cQUTBBqd1a-_",
        "outputId": "b3fc4920-f72f-4fb1-a7e4-74e01b65bba9"
      },
      "source": [
        "print(f\"The probability of 5 customers arriving in\\n the shop in 4 min. is: {poisson.pmf(k=5, mu=mu)}\")\n",
        "print(f\"\\nThe probability of not more than 3 customers\\n arriving in the shop in 4 min. is: {poisson.cdf(k=3, mu=mu)}\")\n",
        "print(f\"\\nThe probability of more than 3 customers\\n arriving in the shop in 4 min. is: {1 - poisson.cdf(k=3, mu=mu)}\")"
      ],
      "execution_count": null,
      "outputs": [
        {
          "output_type": "stream",
          "text": [
            "The probability of 5 customers arriving in\n",
            " the shop in 4 min. is: 0.17474768364388296\n",
            "\n",
            "The probability of not more than 3 customers\n",
            " arriving in the shop in 4 min. is: 0.2942299164965642\n",
            "\n",
            "The probability of more than 3 customers\n",
            " arriving in the shop in 4 min. is: 0.7057700835034357\n"
          ],
          "name": "stdout"
        }
      ]
    },
    {
      "cell_type": "code",
      "metadata": {
        "colab": {
          "base_uri": "https://localhost:8080/",
          "height": 261
        },
        "id": "ce1s57OfcBKs",
        "outputId": "e52a8308-f8e3-4754-ef5f-e012ec3c2044"
      },
      "source": [
        "x = list(range(0,10))\n",
        "fig,ax = plt.subplots(1,1,figsize=(15,5))\n",
        "ax.plot(x, poisson.pmf(x,mu), 'bo', ms=8, label='poisson pmf')\n",
        "ax.vlines(x, 0, poisson.pmf(x, mu), colors='b', lw=5, alpha=0.5)\n",
        "plt.xlabel('Number of customers')\n",
        "plt.ylabel('Probability')"
      ],
      "execution_count": null,
      "outputs": [
        {
          "output_type": "execute_result",
          "data": {
            "text/plain": [
              "Text(0, 0.5, 'Probability')"
            ]
          },
          "metadata": {
            "tags": []
          },
          "execution_count": 26
        },
        {
          "output_type": "display_data",
          "data": {
            "image/png": "[encoded data removed]",
            "text/plain": [
              "<Figure size 1080x360 with 1 Axes>"
            ]
          },
          "metadata": {
            "tags": [],
            "needs_background": "light"
          }
        }
      ]
    },
    {
      "cell_type": "code",
      "metadata": {
        "id": "dxAwngkl5spz"
      },
      "source": [
        ""
      ],
      "execution_count": null,
      "outputs": []
    },
    {
      "cell_type": "markdown",
      "metadata": {
        "id": "l2eEBO_fcA1O"
      },
      "source": [
        "# Problem Statement 8\n",
        "\n",
        "I work as a data analyst in Aeon Learning Pvt. Ltd. After analyzing data, I make\n",
        "reports, where I have the efficiency of entering 77 words per minute with 6 errors per\n",
        "hour. What is the probability that I will commit 2 errors in a 455-word financial report?\n",
        "What happens when the no. of words increases/decreases (in case of 1000 words,\n",
        "255 words)?\n",
        "\n",
        "How is the λ affected?\n",
        "\n",
        "How does it influence the PMF?\n",
        "\n",
        "Give a pictorial representation of the same to validate your answer."
      ]
    },
    {
      "cell_type": "code",
      "metadata": {
        "id": "KTWwUIK2cJ1v"
      },
      "source": [
        "#Rate of entering      = 77 per minute\n",
        "#error rate  =  6/hour = 0.1 per minute\n",
        "#No of errors per word = 0.1/77\n",
        "unit_mu = 0.1/77"
      ],
      "execution_count": null,
      "outputs": []
    },
    {
      "cell_type": "code",
      "metadata": {
        "id": "Dnmpp0pm6XsR"
      },
      "source": [
        "def mu(n):\n",
        "    return n * unit_mu"
      ],
      "execution_count": null,
      "outputs": []
    },
    {
      "cell_type": "code",
      "metadata": {
        "colab": {
          "base_uri": "https://localhost:8080/"
        },
        "id": "mHjMJeSi6sw4",
        "outputId": "5b902de7-b749-4f1a-e121-159b0aec302c"
      },
      "source": [
        "print(f\"The probability of commiting 2 errors in 455 words financial report is : {'%.2f'%poisson.pmf(2,mu=mu(455))}\")\n",
        "print(f\"The probability of commiting 2 errors in 1000 words financial report is : {'%.2f'%poisson.pmf(2,mu=mu(1000))}\")\n",
        "print(f\"The probability of commiting 2 errors in 255 words financial report is : {'%.2f'%poisson.pmf(2,mu=mu(255))}\")"
      ],
      "execution_count": null,
      "outputs": [
        {
          "output_type": "stream",
          "text": [
            "The probability of commiting 2 errors in 455 words financial report is : 0.10\n",
            "The probability of commiting 2 errors in 1000 words financial report is : 0.23\n",
            "The probability of commiting 2 errors in 255 words financial report is : 0.04\n"
          ],
          "name": "stdout"
        }
      ]
    },
    {
      "cell_type": "code",
      "metadata": {
        "id": "qhpYdrqG6sta"
      },
      "source": [
        "x=range(100,1000,50)\n",
        "mu=[i*unit_mu for i in x]"
      ],
      "execution_count": null,
      "outputs": []
    },
    {
      "cell_type": "code",
      "metadata": {
        "colab": {
          "base_uri": "https://localhost:8080/",
          "height": 239
        },
        "id": "jmPMfpP66sqZ",
        "outputId": "984670de-a463-46d0-fe1a-2d24cdea13db"
      },
      "source": [
        "fig,ax = plt.subplots(1,1,figsize=(15,5))\n",
        "ax.plot(x,poisson.pmf(2,mu), 'bo', ms=8, label='poisson pmf')\n",
        "ax.vlines(x,0, poisson.pmf(2,mu), colors='b', lw=5, alpha=0.5)\n",
        "#As the number of words increase probability of getting errors increases\n",
        "plt.show()"
      ],
      "execution_count": null,
      "outputs": [
        {
          "output_type": "display_data",
          "data": {
            "image/png": "[encoded data removed]",
            "text/plain": [
              "<Figure size 1080x360 with 1 Axes>"
            ]
          },
          "metadata": {
            "tags": [],
            "needs_background": "light"
          }
        }
      ]
    },
    {
      "cell_type": "code",
      "metadata": {
        "id": "OjbGI00s6Xox"
      },
      "source": [
        ""
      ],
      "execution_count": null,
      "outputs": []
    },
    {
      "cell_type": "markdown",
      "metadata": {
        "id": "NaVMlba4cK5d"
      },
      "source": [
        "# Problem Statement 9\n",
        "\n",
        "Let the continuous random variable D denote the diameter of the hole drilled in an\n",
        "aluminum sheet. The target diameter to be achieved is 12.5mm. Random\n",
        "disturbances in the process often result in inaccuracy.\n",
        "\n",
        "Historical data shows that the distribution of D can be modelled by the PDF, f(d) =\n",
        "20e−20(d−12.5), d ≥ 12.5. If a part with diameter > 12.6 mm needs to be scrapped,\n",
        "what is the proportion of those parts? What is the CDF when the diameter is of 11\n",
        "mm?\n",
        "\n",
        "What is the conclusion of this experiment?"
      ]
    },
    {
      "cell_type": "code",
      "metadata": {
        "colab": {
          "base_uri": "https://localhost:8080/"
        },
        "id": "M-jolCnixO04",
        "outputId": "da7fd29a-ba97-49c3-801c-1139d3873599"
      },
      "source": [
        "from scipy import integrate\n",
        "\n",
        "#PDF (𝑑) = 20𝑒−20(𝑑−12.5)\n",
        "#𝑑 ≥ 12.5\n",
        "PDF=lambda d:20*(np.exp((-20*(d-12.5))))\n",
        "x = 12.6\n",
        "P_x=integrate.quad(PDF,12.6,np.inf)\n",
        "y = 11\n",
        "CDF=integrate.quad(PDF,-np.inf,y)\n",
        "print(f\"Proportion of Parts need to scrapped when d > 12.6mm is :{P_x[0]}\")\n",
        "print(f\"CDF when d = 11mm is:{CDF[0]}\")\n",
        "print(f\"Proportion of CDF when d > 12.5mm is : {integrate.quad(PDF,12.5,np.inf)[0]}\\n\\n\")\n"
      ],
      "execution_count": null,
      "outputs": [
        {
          "output_type": "stream",
          "text": [
            "Proportion of Parts need to scrapped when d > 12.6mm is :0.13533528323661398\n",
            "CDF when d = 11mm is:inf\n",
            "Proportion of CDF when d > 12.5mm is : 1.0000000000000024\n",
            "\n",
            "\n"
          ],
          "name": "stdout"
        },
        {
          "output_type": "stream",
          "text": [
            "/usr/local/lib/python3.7/dist-packages/ipykernel_launcher.py:5: RuntimeWarning: overflow encountered in exp\n",
            "  \"\"\"\n"
          ],
          "name": "stderr"
        }
      ]
    },
    {
      "cell_type": "code",
      "metadata": {
        "id": "XhALrF65cOdT"
      },
      "source": [
        ""
      ],
      "execution_count": null,
      "outputs": []
    },
    {
      "cell_type": "markdown",
      "metadata": {
        "id": "sFyNMKgOcPuf"
      },
      "source": [
        "# Problem Statement 10\n",
        "\n",
        "Please compute the following:\n",
        "\n",
        "a) P(Z > 1.26), . P(Z < −0.86), P(Z > −1.37), P(−1.25 < Z < 0.37), . P(Z ≤ −4.6)\n",
        "\n",
        "b) Find the value z such that P(Z > z) = 0.05\n",
        "\n",
        "c) Find the value of z such that P(−z < Z < z) = 0.99\n"
      ]
    },
    {
      "cell_type": "code",
      "metadata": {
        "colab": {
          "base_uri": "https://localhost:8080/"
        },
        "id": "QHUUoBQfyWbL",
        "outputId": "fe2c7066-d54a-47d7-d7da-725e870d81b3"
      },
      "source": [
        "from scipy.stats import norm\n",
        "\n",
        "def P(z, b=-np.inf):\n",
        "  return integrate.quad(norm.pdf, b, z)[0]\n",
        "\n",
        "print('P(Z>1.26)   = %.5f'%(1-P(1.26)))\n",
        "print('P(Z<-0.86)  = %.5f'%P(-0.86))\n",
        "print('P(Z>-1.37)  = %.5f'%(1-P(-1.37)))\n",
        "print('P(−1.25 < Z < 0.37) = %.5f'%P(0.37,b=-1.25))\n",
        "print('P(Z ≤ −4.6) = %.5f'%P(-4.6))"
      ],
      "execution_count": null,
      "outputs": [
        {
          "output_type": "stream",
          "text": [
            "P(Z>1.26)   = 0.10383\n",
            "P(Z<-0.86)  = 0.19489\n",
            "P(Z>-1.37)  = 0.91466\n",
            "P(−1.25 < Z < 0.37) = 0.53866\n",
            "P(Z ≤ −4.6) = 0.00000\n"
          ],
          "name": "stdout"
        }
      ]
    },
    {
      "cell_type": "code",
      "metadata": {
        "colab": {
          "base_uri": "https://localhost:8080/"
        },
        "id": "g-touEHKyWXo",
        "outputId": "93dae5bd-3d96-449a-d6bb-4e7df7bb471b"
      },
      "source": [
        "print('P(Z>z)=0.05 is %.2f'%(-1*norm.ppf(0.05)))\n",
        "print('𝑃(−𝑧 < 𝑍 < 𝑧) = 0.99 is %.2f'%(abs(norm.ppf(0.005))))"
      ],
      "execution_count": null,
      "outputs": [
        {
          "output_type": "stream",
          "text": [
            "P(Z>z)=0.05 is 1.64\n",
            "𝑃(−𝑧 < 𝑍 < 𝑧) = 0.99 is 2.58\n"
          ],
          "name": "stdout"
        }
      ]
    },
    {
      "cell_type": "code",
      "metadata": {
        "id": "9a3ccWMscUiS"
      },
      "source": [
        ""
      ],
      "execution_count": null,
      "outputs": []
    },
    {
      "cell_type": "markdown",
      "metadata": {
        "id": "8Aal2vRNcWuy"
      },
      "source": [
        "# Problem Statement 11\n",
        "\n",
        "The current flow in a copper wire follow a normal distribution with a mean of 10 mA\n",
        "and a variance of 4 (mA)2.\n",
        "\n",
        "What is the probability that a current measurement will exceed 13 mA? What is the\n",
        "probability that a current measurement is between 9 and 11mA? Determine the\n",
        "current measurement which has a probability of 0.98."
      ]
    },
    {
      "cell_type": "code",
      "metadata": {
        "colab": {
          "base_uri": "https://localhost:8080/"
        },
        "id": "_XQ06vC0zqti",
        "outputId": "6799fddf-4c38-4622-b3c4-2d0ec6b1fa9e"
      },
      "source": [
        "mean = 10\n",
        "std = np.sqrt(4)\n",
        "\n",
        "def I(z, b=-np.inf):\n",
        "    z = (z-mean)/std\n",
        "    return integrate.quad(norm.pdf,b,z)[0]\n",
        "\n",
        "print(f\"Probability that current > 13mA is: {1-I(13)}\")\n",
        "print(f\"Probability that current is between 9 mA and 11 mA is : {1-I(11,b=9)}\")\n"
      ],
      "execution_count": null,
      "outputs": [
        {
          "output_type": "stream",
          "text": [
            "Probability that current > 13mA is: 0.06680720126885797\n",
            "Probability that current is between 9 mA and 11 mA is : 1.3085375387259144\n"
          ],
          "name": "stdout"
        }
      ]
    },
    {
      "cell_type": "code",
      "metadata": {
        "id": "SNKir3FycWc2"
      },
      "source": [
        ""
      ],
      "execution_count": null,
      "outputs": []
    },
    {
      "cell_type": "markdown",
      "metadata": {
        "id": "5MDnhr6IcWMz"
      },
      "source": [
        "# Problem Statement 12\n",
        "\n",
        "The shaft in a piston has its diameter normally distributed with a mean of 0.2508 inch\n",
        "and a standard deviation of 0.0005 inch. The specifications of the shaft are 0.2500 ∓\n",
        "0.0015 inch. What proportion of shafts are in sync with the specifications? If the\n",
        "process is centered so that the mean is equal to the target value of 0.2500, what\n",
        "proportion of shafts conform to the new specifications? What is your conclusion from\n",
        "this experiment?"
      ]
    },
    {
      "cell_type": "code",
      "metadata": {
        "colab": {
          "base_uri": "https://localhost:8080/"
        },
        "id": "m8jUrUiCcV-5",
        "outputId": "bae48c56-60d5-4eb1-e2cd-f55bc9ee1bcc"
      },
      "source": [
        "mean_dia=0.2508\n",
        "std_dia=0.0005\n",
        "#specified dia in the range of 0.2485<d<0.2515\n",
        "#case-1 if mean_dia=0.2508\n",
        "def I(mean,std,a,b) :\n",
        "  #gives P(Z<=x)\n",
        "  a=(a-mean)/std\n",
        "  b=(b-mean)/std\n",
        "print(f\"Proportion of shafts with dia in range of 0.2485<d<0.2515 when mean diameter:{0.2508,I(0.2508,0.0005,0.2485,0.2515)}\")\n",
        "print(f\"Proportion of shafts with dia in range of 0.2485<d<0.2515 when mean diameter:{0.2500,I(0.2500,0.0005,0.2485,0.2515)}\")"
      ],
      "execution_count": null,
      "outputs": [
        {
          "output_type": "stream",
          "text": [
            "Proportion of shafts with dia in range of 0.2485<d<0.2515 when mean diameter:(0.2508, None)\n",
            "Proportion of shafts with dia in range of 0.2485<d<0.2515 when mean diameter:(0.25, None)\n"
          ],
          "name": "stdout"
        }
      ]
    },
    {
      "cell_type": "markdown",
      "metadata": {
        "id": "sKW8InlT0glo"
      },
      "source": [
        "Within the range of 0.2485<d<0.2515 A manufacturing process with mean of 0.25 gives maximum proportion of required shafts, there by reducing amount of scrap and reprocessing time."
      ]
    },
    {
      "cell_type": "markdown",
      "metadata": {
        "id": "n5v7wNQC0ghu"
      },
      "source": [
        "When compared to any other manufacturing process whose mean deviates from that of 0.25 less proportion of required shafts are obtained. The more the manufucaturing process deviaties from 0.25, lesser will be the proportion of reqired safts obtained."
      ]
    },
    {
      "cell_type": "markdown",
      "metadata": {
        "id": "MBNowD8R0gfB"
      },
      "source": [
        "Mathematically, in a given range 0.2485<d<0.2515 , if there are two noraml distributrions (manufacturing processes) with same standard deviation,more area will be covered by the distribution whose mean is closer to mean of the interval i.e 0.25¶"
      ]
    },
    {
      "cell_type": "code",
      "metadata": {
        "id": "1nWvGhZ30a5t"
      },
      "source": [
        ""
      ],
      "execution_count": null,
      "outputs": []
    }
  ]
}