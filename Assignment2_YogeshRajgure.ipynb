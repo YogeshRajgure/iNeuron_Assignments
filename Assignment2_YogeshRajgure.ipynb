{
  "nbformat": 4,
  "nbformat_minor": 0,
  "metadata": {
    "colab": {
      "name": "Assignment2_YogeshRajgure.ipynb",
      "provenance": [],
      "authorship_tag": "ABX9TyNU6zfErRGkFlQg0BeBE49n",
      "include_colab_link": true
    },
    "kernelspec": {
      "name": "python3",
      "display_name": "Python 3"
    }
  },
  "cells": [
    {
      "cell_type": "markdown",
      "metadata": {
        "id": "view-in-github",
        "colab_type": "text"
      },
      "source": [
        "<a href=\"https://colab.research.google.com/github/YogeshRajgure/iNeuron_Assignments/blob/main/Assignment2_YogeshRajgure.ipynb\" target=\"_parent\"><img src=\"https://colab.research.google.com/assets/colab-badge.svg\" alt=\"Open In Colab\"/></a>"
      ]
    },
    {
      "cell_type": "markdown",
      "metadata": {
        "id": "GSTdEjZhzpf4"
      },
      "source": [
        "###**Create the below pattern using nested for loop in Python.**"
      ]
    },
    {
      "cell_type": "code",
      "metadata": {
        "colab": {
          "base_uri": "https://localhost:8080/"
        },
        "id": "Z7_YULBCzxy6",
        "outputId": "a05f61e8-3959-4878-9ed0-bcb347c27e45"
      },
      "source": [
        "for x in range(1,10):\n",
        "  \n",
        "  if x > 5 :\n",
        "    x = x - 2*(x-5)\n",
        "  a = \"\".join(['*']*x)\n",
        "  print(a)\n"
      ],
      "execution_count": null,
      "outputs": [
        {
          "output_type": "stream",
          "text": [
            "*\n",
            "**\n",
            "***\n",
            "****\n",
            "*****\n",
            "****\n",
            "***\n",
            "**\n",
            "*\n"
          ],
          "name": "stdout"
        }
      ]
    },
    {
      "cell_type": "markdown",
      "metadata": {
        "id": "T3AcqBKT1m65"
      },
      "source": [
        "###**Write a Python program to reverse a word after accepting the input from the user.**\n",
        "###**Input word: ineuron**\n",
        "###**Output: norueni**\n"
      ]
    },
    {
      "cell_type": "code",
      "metadata": {
        "colab": {
          "base_uri": "https://localhost:8080/"
        },
        "id": "xTPq0SeZ0NPv",
        "outputId": "c8e3f973-61a6-4984-ac89-ab2aca79e75c"
      },
      "source": [
        "t_s = input(\"Enter the string : \")\n",
        "\n",
        "r_s = list(t_s)\n",
        "\n",
        "for letter in range(int(len(r_s)/2)):\n",
        "  r_s[letter] , r_s[len(r_s) - letter-1] = r_s[len(r_s) - letter-1] , r_s[letter]   \n",
        "\n",
        "print(''.join(r_s))"
      ],
      "execution_count": null,
      "outputs": [
        {
          "output_type": "stream",
          "text": [
            "Enter the string : yogesh rajgure\n",
            "erugjar hsegoy\n"
          ],
          "name": "stdout"
        }
      ]
    },
    {
      "cell_type": "code",
      "metadata": {
        "id": "A5O3pHrK3jo5"
      },
      "source": [
        ""
      ],
      "execution_count": null,
      "outputs": []
    }
  ]
}