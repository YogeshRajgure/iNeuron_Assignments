{
  "nbformat": 4,
  "nbformat_minor": 0,
  "metadata": {
    "colab": {
      "name": "Assignment11_YogeshRajgure.ipynb",
      "provenance": [],
      "collapsed_sections": [],
      "authorship_tag": "ABX9TyOP5XMNMs0OEKXi+/wlzr+5",
      "include_colab_link": true
    },
    "kernelspec": {
      "name": "python3",
      "display_name": "Python 3"
    },
    "language_info": {
      "name": "python"
    }
  },
  "cells": [
    {
      "cell_type": "markdown",
      "metadata": {
        "id": "view-in-github",
        "colab_type": "text"
      },
      "source": [
        "<a href=\"https://colab.research.google.com/github/YogeshRajgure/iNeuron_Assignments/blob/main/Assignment11_YogeshRajgure.ipynb\" target=\"_parent\"><img src=\"https://colab.research.google.com/assets/colab-badge.svg\" alt=\"Open In Colab\"/></a>"
      ]
    },
    {
      "cell_type": "markdown",
      "metadata": {
        "id": "f19DKp1ylab9"
      },
      "source": [
        "## **Stats 2 Assignment**"
      ]
    },
    {
      "cell_type": "code",
      "metadata": {
        "id": "lZtp7dheSsuL"
      },
      "source": [
        ""
      ],
      "execution_count": null,
      "outputs": []
    },
    {
      "cell_type": "markdown",
      "metadata": {
        "id": "MCPFqRs8QwCy"
      },
      "source": [
        "# **Problem Statement 1:**\n",
        "\n",
        "###In each of the following situations, state whether it is a correctly stated hypothesis testing problem and why?\n",
        "###1. 𝐻0: 𝜇 = 25, 𝐻1: 𝜇 ≠ 25\n",
        "###2. 𝐻0: 𝜎 > 10, 𝐻1: 𝜎 = 10\n",
        "###3. 𝐻0: 𝑥 = 50, 𝐻1: 𝑥 ≠ 50\n",
        "###4. 𝐻0: 𝑝 = 0.1, 𝐻1: 𝑝 = 0.5\n",
        "###5. 𝐻0: 𝑠 = 30, 𝐻1: 𝑠 > 30"
      ]
    },
    {
      "cell_type": "markdown",
      "metadata": {
        "id": "vfYops7kRB2F"
      },
      "source": [
        "###Answer:\n",
        "1. Yes, because values in both are statement about population or distribution, have equal values and has inequality in null hypothesis.\n",
        "2. No, because null hypothesis has an eqaulity claim and alternate hypothesis has inequality.\n",
        "3. No, because hypothesis is stated in terms of statistics and not sample data \n",
        "4. No, because values in both hypothesis is different and has equal sign.\n",
        "5. No, because hypothesis are always statements about population or distribution and not about sample"
      ]
    },
    {
      "cell_type": "code",
      "metadata": {
        "id": "CG1zNMvqlNgU"
      },
      "source": [
        ""
      ],
      "execution_count": null,
      "outputs": []
    },
    {
      "cell_type": "markdown",
      "metadata": {
        "id": "Djgb6UpbSkn6"
      },
      "source": [
        "# **Problem Statement 2:**\n",
        "\n",
        "###The college bookstore tells prospective students that the average cost of its textbooks is Rs. 52 with a standard deviation of Rs. 4.50. A group of smart statistics students thinks that the average cost is higher. To test the bookstore’s claim against their alternative, the students will select a random sample of size 100. Assume that the mean from their random sample is Rs. 52.80. Perform a hypothesis test at the 5% level of significance and state your decision.\n"
      ]
    },
    {
      "cell_type": "code",
      "metadata": {
        "id": "8UMRBROhSj_Z"
      },
      "source": [
        "from scipy.stats import norm\n",
        "import numpy as np\n",
        "import math\n",
        "import scipy.stats as stats\n",
        "from scipy.stats import chi2_contingency"
      ],
      "execution_count": null,
      "outputs": []
    },
    {
      "cell_type": "code",
      "metadata": {
        "id": "dCd8RHxTUDUo"
      },
      "source": [
        "# H0 : mean is  = 52\n",
        "# H1 : mean is != 52\n",
        "# significance level = 95% so,\n",
        "alpha =  0.05"
      ],
      "execution_count": null,
      "outputs": []
    },
    {
      "cell_type": "code",
      "metadata": {
        "id": "y915u7hNTjt1"
      },
      "source": [
        "p_mean = 52    #population mean\n",
        "p_std = 4.50   #population st. deviation\n",
        "n = 100        #sample\n",
        "sample_mean = 52.80"
      ],
      "execution_count": null,
      "outputs": []
    },
    {
      "cell_type": "code",
      "metadata": {
        "id": "Uhtyrjs0T1AM"
      },
      "source": [
        "SE = p_std/n**0.5 #standard error\n",
        "Z = (sample_mean - p_mean) / SE"
      ],
      "execution_count": null,
      "outputs": []
    },
    {
      "cell_type": "code",
      "metadata": {
        "colab": {
          "base_uri": "https://localhost:8080/"
        },
        "id": "MTjk9gmlWLpp",
        "outputId": "716a28a0-074c-4965-9714-193be1fd5eff"
      },
      "source": [
        "print(f\"Z score is : {Z}\")"
      ],
      "execution_count": null,
      "outputs": [
        {
          "output_type": "stream",
          "text": [
            "Z score is : 1.7777777777777715\n"
          ],
          "name": "stdout"
        }
      ]
    },
    {
      "cell_type": "code",
      "metadata": {
        "colab": {
          "base_uri": "https://localhost:8080/"
        },
        "id": "vHWGFXwoWSNy",
        "outputId": "0d509cb3-dad5-458f-c788-f5254f9c0153"
      },
      "source": [
        "print(f\"Critical region is {norm.ppf(alpha/2)}, {-norm.ppf(alpha/2)}\")"
      ],
      "execution_count": null,
      "outputs": [
        {
          "output_type": "stream",
          "text": [
            "Critical region is -1.9599639845400545, 1.9599639845400545\n"
          ],
          "name": "stdout"
        }
      ]
    },
    {
      "cell_type": "markdown",
      "metadata": {
        "id": "TH2iE8hnXJUQ"
      },
      "source": [
        "---\n",
        "\n",
        "\n",
        "**From above, we can conclude that we accept the null hypothesis as the z score falls under the critical region..**\n",
        "\n",
        "\n",
        "---\n"
      ]
    },
    {
      "cell_type": "code",
      "metadata": {
        "id": "NyztqIvyWxXg"
      },
      "source": [
        ""
      ],
      "execution_count": null,
      "outputs": []
    },
    {
      "cell_type": "markdown",
      "metadata": {
        "id": "Op-YQK0sXpo4"
      },
      "source": [
        "#**Problem Statement 3**\n",
        "\n",
        "###A certain chemical pollutant in the Genesee River has been constant for several years with mean μ = 34 ppm (parts per million) and standard deviation σ = 8 ppm. A group of factory representatives whose companies discharge liquids into the river is now claiming that they have lowered the average with improved filtration devices. A group of environmentalists will test to see if this is true at the 1% level of significance. \n",
        "###Assume that their sample of size 50 gives a mean of 32.5 ppm. Perform a hypothesis test at the 1% level of significance and state your decision."
      ]
    },
    {
      "cell_type": "code",
      "metadata": {
        "id": "806OvJkLXo27"
      },
      "source": [
        "p_mean = 34\n",
        "p_std = 8\n",
        "alpha = 0.01\n",
        "\n",
        "n = 50\n",
        "sample_mean = 32.5"
      ],
      "execution_count": null,
      "outputs": []
    },
    {
      "cell_type": "code",
      "metadata": {
        "id": "BQJLtFxXYlMM"
      },
      "source": [
        "# H0 : claim is true\n",
        "# H1 : claim is false"
      ],
      "execution_count": null,
      "outputs": []
    },
    {
      "cell_type": "code",
      "metadata": {
        "id": "YMKysNgDZLIk"
      },
      "source": [
        "SE = p_std / n**0.5\n",
        "Z = (sample_mean-p_mean)/SE"
      ],
      "execution_count": null,
      "outputs": []
    },
    {
      "cell_type": "code",
      "metadata": {
        "colab": {
          "base_uri": "https://localhost:8080/"
        },
        "id": "7rzzpUn-ZcYf",
        "outputId": "bec9f05a-f5ef-45a9-f842-62d6b4615fce"
      },
      "source": [
        "print(f\"Z score is : {Z}\")"
      ],
      "execution_count": null,
      "outputs": [
        {
          "output_type": "stream",
          "text": [
            "Z score is : -1.3258252147247767\n"
          ],
          "name": "stdout"
        }
      ]
    },
    {
      "cell_type": "code",
      "metadata": {
        "colab": {
          "base_uri": "https://localhost:8080/"
        },
        "id": "nkbf8-x3Ze4T",
        "outputId": "abccb604-a89d-46fd-96d8-11fdaebd1d8e"
      },
      "source": [
        "print(f\"Critical region is {norm.ppf(alpha/2)}, {-norm.ppf(alpha/2)}\")"
      ],
      "execution_count": null,
      "outputs": [
        {
          "output_type": "stream",
          "text": [
            "Critical region is -2.575829303548901, 2.575829303548901\n"
          ],
          "name": "stdout"
        }
      ]
    },
    {
      "cell_type": "markdown",
      "metadata": {
        "id": "HdUe-Pj9Z3fj"
      },
      "source": [
        "---\n",
        "\n",
        "\n",
        "**From above, we can conclude that we accept the null hypothesis as the z score falls under the critical region.. we can say that company has lowered the ppm**\n",
        "\n",
        "\n",
        "---\n"
      ]
    },
    {
      "cell_type": "code",
      "metadata": {
        "id": "ZKhaRQklZgu6"
      },
      "source": [
        ""
      ],
      "execution_count": null,
      "outputs": []
    },
    {
      "cell_type": "markdown",
      "metadata": {
        "id": "XTv5ctCnaGnO"
      },
      "source": [
        "# **Problem Statement 4**\n",
        "\n",
        "### Based on population figures and other general information on the U.S. population, suppose it has been estimated that, on average, a family of four in the U.S. spends about $1135 annually on dental expenditures. Suppose further that a regional dental association wants to test to determine if this figure is accurate for their area of country. To test this, 22 families of 4 are randomly selected from the population in that area of the country and a log is kept of the family’s dental expenditure for one year. The resulting data are given below. Assuming, that dental expenditure is normally distributed in the population, use the data and an alpha of 0.5 to test the dental association’s hypothesis. 1008, 812, 1117, 1323, 1308, 1415, 831, 1021, 1287, 851, 930, 730, 699, 872, 913, 944, 954, 987, 1695, 995, 1003, 994"
      ]
    },
    {
      "cell_type": "code",
      "metadata": {
        "id": "lZXc0kjKaGDZ"
      },
      "source": [
        "given_data=[1008, 812, 1117, 1323, 1308, 1415, 831, 1021, 1287,\n",
        "            851, 930, 730, 699, 872, 913, 944, 954, 987, 1695, 995, 1003, 994]\n"
      ],
      "execution_count": null,
      "outputs": []
    },
    {
      "cell_type": "code",
      "metadata": {
        "id": "6agVYTtGagGc"
      },
      "source": [
        "p_mean =1135\n",
        "sample_std = np.std(given_data)\n",
        "n=22\n",
        "sample_mean = np.sum(given_data,axis=0)/len(given_data)\n",
        "alpha = 0.5"
      ],
      "execution_count": null,
      "outputs": []
    },
    {
      "cell_type": "code",
      "metadata": {
        "colab": {
          "base_uri": "https://localhost:8080/"
        },
        "id": "YTrvZty4amWw",
        "outputId": "98855198-08ee-4691-f706-4047d4a25725"
      },
      "source": [
        "SE = sample_std/n**0.5\n",
        "test_1 = (sample_mean-p_mean)/SE\n",
        "print(f\"t_Score is : {test_1}\")"
      ],
      "execution_count": null,
      "outputs": [
        {
          "output_type": "stream",
          "text": [
            "t_Score is : -2.070747228595759\n"
          ],
          "name": "stdout"
        }
      ]
    },
    {
      "cell_type": "code",
      "metadata": {
        "colab": {
          "base_uri": "https://localhost:8080/"
        },
        "id": "IMmZkG0iautf",
        "outputId": "de797c03-1d81-46d2-fda7-1be4cc718194"
      },
      "source": [
        "print(f\"Critical Region is : {stats.t.ppf((alpha/2),df=21)}, {stats.t.ppf(1-(alpha/2),df=21)}\")"
      ],
      "execution_count": null,
      "outputs": [
        {
          "output_type": "stream",
          "text": [
            "Critical Region is : -0.6863519891164291, 0.6863519891164291\n"
          ],
          "name": "stdout"
        }
      ]
    },
    {
      "cell_type": "markdown",
      "metadata": {
        "id": "ef01KCFcbYsH"
      },
      "source": [
        "---\n",
        "**We reject the nyll hypothesis**\n",
        "**Hence we conclude that avg dental expenses for population is not accurate for their area..**\n",
        "\n",
        "---"
      ]
    },
    {
      "cell_type": "code",
      "metadata": {
        "id": "Q5RKlIHWbREq"
      },
      "source": [
        ""
      ],
      "execution_count": null,
      "outputs": []
    },
    {
      "cell_type": "markdown",
      "metadata": {
        "id": "VIlk70izbyaU"
      },
      "source": [
        "# **Problem Statement 5**\n",
        "\n",
        "###In a report prepared by the Economic Research Department of a major bank the Department manager maintains that the average annual family income on Metropolis is 48432. What do you conclude about the validity of the report if a random sample of 400 families shows and average income of 48,574 with a standard deviation of 2000?"
      ]
    },
    {
      "cell_type": "code",
      "metadata": {
        "colab": {
          "base_uri": "https://localhost:8080/"
        },
        "id": "P1wO3Uadb5s_",
        "outputId": "bf7d4cc2-a44a-4d60-e627-eb6b6e55a004"
      },
      "source": [
        "p_mean = 48432\n",
        "p_std = 2000\n",
        "n =400\n",
        "sample_mean =48574\n",
        "\n",
        "SE = p_std/n**0.5\n",
        "Z = (sample_mean-p_mean)/SE\n",
        "alpha=0.05\n",
        "print(f\"Critical region is {norm.ppf(alpha/2)} {-norm.ppf(alpha/2)}\")"
      ],
      "execution_count": null,
      "outputs": [
        {
          "output_type": "stream",
          "text": [
            "Critical region is -1.9599639845400545 1.9599639845400545\n"
          ],
          "name": "stdout"
        }
      ]
    },
    {
      "cell_type": "markdown",
      "metadata": {
        "id": "glj4XCF-cMXh"
      },
      "source": [
        "---\n",
        "**We accept null hypothesis at alpha=0.05 since z_score < critical_region**\n",
        "\n",
        "---"
      ]
    },
    {
      "cell_type": "code",
      "metadata": {
        "id": "puK0n0SXcJZX"
      },
      "source": [
        ""
      ],
      "execution_count": null,
      "outputs": []
    },
    {
      "cell_type": "markdown",
      "metadata": {
        "id": "8mswlUa7chiE"
      },
      "source": [
        "# **Problem Statement 6**\n",
        "\n",
        "###Suppose that in past years the average price per square foot for warehouses in the United States has been 32.28. A national real estate investor wants to determine whether that figure has changed now. The investor hires a researcher who randomly samples 19 warehouses that are for sale across the United States and finds that the mean price per square foot is 31.67, with a standard deviation of 1.29. assume that the prices of warehouse footage are normally distributed in population. If the researcher uses a 5% level of significance, what statistical conclusion can be reached? What are the hypotheses?"
      ]
    },
    {
      "cell_type": "code",
      "metadata": {
        "colab": {
          "base_uri": "https://localhost:8080/"
        },
        "id": "7cu01ljTcnmv",
        "outputId": "bd8f2dd2-637d-426b-8175-c1eaab325007"
      },
      "source": [
        "p_mean =32.28\n",
        "n=19\n",
        "sample_mean =31.67\n",
        "sample_std =1.29\n",
        "alpha =0.05\n",
        "\n",
        "SE=sample_std/(n**0.5)\n",
        "t=(sample_mean-p_mean)/SE\n",
        "print(f\"t_score is {round((t),1)}\")\n",
        "print(f\"Critical region is {round(stats.t.ppf((alpha/2),df=18),1)}, {-round(stats.t.ppf((alpha/2),df=18),1)}\")\n"
      ],
      "execution_count": null,
      "outputs": [
        {
          "output_type": "stream",
          "text": [
            "t_score is -2.1\n",
            "Critical region is -2.1, 2.1\n"
          ],
          "name": "stdout"
        }
      ]
    },
    {
      "cell_type": "markdown",
      "metadata": {
        "id": "S96FzW4QcwOM"
      },
      "source": [
        "---\n",
        "\n",
        "**we can reject null hypothesis at alpha=0.05 since it lies within critical region**\n",
        "\n",
        "---"
      ]
    },
    {
      "cell_type": "code",
      "metadata": {
        "id": "LGsTmqr3crYD"
      },
      "source": [
        ""
      ],
      "execution_count": null,
      "outputs": []
    },
    {
      "cell_type": "markdown",
      "metadata": {
        "id": "GGqkkWjmc9dT"
      },
      "source": [
        "# **Problem Statement 7**\n",
        "\n",
        "###Fill in the blank spaces in the table and draw your conclusions from it.\n",
        "\n",
        "i) Acceptance region 48.5 < x < 51.5"
      ]
    },
    {
      "cell_type": "code",
      "metadata": {
        "colab": {
          "base_uri": "https://localhost:8080/"
        },
        "id": "HnXU51-Mc8_i",
        "outputId": "7706d497-6d48-4cf9-f04e-7c2623932f7e"
      },
      "source": [
        "# Calculate Beta at Mu1 = 52\n",
        "n1 = 10\n",
        "Sig =2.5\n",
        "Mu1 =52\n",
        "\n",
        "p11 = (48.5 - Mu1)/(Sig/math.sqrt(n1))\n",
        "print(p11)\n",
        "p12 = (51.5 - Mu1)/(Sig/math.sqrt(n1))\n",
        "print(p12)\n",
        "# As p12 > p11, so our z score lies in between these two p12 < z < p11.\n",
        "# Find probability at these z score\n",
        "P11 = 0\n",
        "P12 = 0.2643\n",
        "# now Beta = p12 - p11\n",
        "Beta11 = P12 - P11\n",
        "print(f\"Beta at Mu1 = 52 is : {Beta11}\")"
      ],
      "execution_count": null,
      "outputs": [
        {
          "output_type": "stream",
          "text": [
            "-4.427188724235731\n",
            "-0.6324555320336759\n",
            "Beta at Mu1 = 52 is : 0.2643\n"
          ],
          "name": "stdout"
        }
      ]
    },
    {
      "cell_type": "code",
      "metadata": {
        "colab": {
          "base_uri": "https://localhost:8080/"
        },
        "id": "QwOt-2Eedm38",
        "outputId": "f32e1208-5795-4515-a599-5f6682719740"
      },
      "source": [
        "# Calculate Beta at Mu2 = 50.5\n",
        "n1 = 10\n",
        "Sig =2.5\n",
        "Mu2 =50.5\n",
        "\n",
        "p13 = (48.5 - Mu2)/(Sig/math.sqrt(n1))\n",
        "print(p13)\n",
        "p14 = (51.5 - Mu2)/(Sig/math.sqrt(n1))\n",
        "print(p14)\n",
        "\n",
        "# so our z score lies in between these two p13 < z < p14.\n",
        "# Find probability at these z score\n",
        "P13 = 0.0057\n",
        "P14 = 0.8962\n",
        "# now Beta = p13 +(1 - p14)\n",
        "Beta12 = P13 +(1- P14)\n",
        "print(f\"Beta at Mu2 = 50.5 is : {Beta12}\")"
      ],
      "execution_count": null,
      "outputs": [
        {
          "output_type": "stream",
          "text": [
            "-2.5298221281347035\n",
            "1.2649110640673518\n",
            "Beta at Mu2 = 50.5 is : 0.1095\n"
          ],
          "name": "stdout"
        }
      ]
    },
    {
      "cell_type": "markdown",
      "metadata": {
        "id": "UarZPYwUdt8c"
      },
      "source": [
        "ii) 48 < x < 51\n",
        "\n"
      ]
    },
    {
      "cell_type": "code",
      "metadata": {
        "colab": {
          "base_uri": "https://localhost:8080/"
        },
        "id": "lQGTyVROdqJn",
        "outputId": "9cc3d88f-a246-4640-d2e1-df2d30824bd4"
      },
      "source": [
        "# Calculate Beta at Mu1 = 52\n",
        "n1 = 10\n",
        "Sig =2.5\n",
        "Mu1 =52\n",
        "\n",
        "p11 = (48.5 - Mu1)/(Sig/math.sqrt(n1))\n",
        "print(p11)\n",
        "p12 = (51.5 - Mu1)/(Sig/math.sqrt(n1))\n",
        "print(p12)\n",
        "# As p12 > p11, so our z score lies in between these two p12 < z < p11.\n",
        "# Find probability at these z score\n",
        "P11 = 0\n",
        "P12 = 0.2643\n",
        "# now Beta = p12 - p11\n",
        "Beta11 = P12 - P11\n",
        "print(f\"Beta at Mu1 = 52 is : {Beta11}\")"
      ],
      "execution_count": null,
      "outputs": [
        {
          "output_type": "stream",
          "text": [
            "-4.427188724235731\n",
            "-0.6324555320336759\n",
            "Beta at Mu1 = 52 is : 0.2643\n"
          ],
          "name": "stdout"
        }
      ]
    },
    {
      "cell_type": "code",
      "metadata": {
        "colab": {
          "base_uri": "https://localhost:8080/"
        },
        "id": "m5VSzjoHeDuw",
        "outputId": "f92f8873-04e7-4020-fb7a-d75cb89baf21"
      },
      "source": [
        "# Calculate Beta at Mu2 = 50.5\n",
        "n1 = 10\n",
        "Sig =2.5\n",
        "Mu2 =50.5\n",
        "\n",
        "p13 = (48.5 - Mu2)/(Sig/math.sqrt(n1))\n",
        "print(p13)\n",
        "p14 = (51.5 - Mu2)/(Sig/math.sqrt(n1))\n",
        "print(p14)\n",
        "\n",
        "# so our z score lies in between these two p13 < z < p14.\n",
        "# Find probability at these z score\n",
        "P13 = 0.0057\n",
        "P14 = 0.8962\n",
        "# now Beta = p13 +(1 - p14)\n",
        "Beta12 = P13 +(1- P14)\n",
        "print(f\"Beta at Mu2 = 50.5 is : {Beta12}\")"
      ],
      "execution_count": null,
      "outputs": [
        {
          "output_type": "stream",
          "text": [
            "-2.5298221281347035\n",
            "1.2649110640673518\n",
            "Beta at Mu2 = 50.5 is : 0.1095\n"
          ],
          "name": "stdout"
        }
      ]
    },
    {
      "cell_type": "markdown",
      "metadata": {
        "id": "rbVdle0UeJlg"
      },
      "source": [
        "ii) 48 < x < 51"
      ]
    },
    {
      "cell_type": "code",
      "metadata": {
        "colab": {
          "base_uri": "https://localhost:8080/"
        },
        "id": "RXZoLx6ceGVx",
        "outputId": "bbd8110a-1cb4-4c51-bb9e-11b838c6c1f1"
      },
      "source": [
        "# Calculate Beta at Mu1 = 52\n",
        "n2 = 10\n",
        "Sig =2.5\n",
        "Mu1 =52\n",
        "\n",
        "p21 = (48.0 - Mu1)/(Sig/math.sqrt(n2))\n",
        "print(p21)\n",
        "p22 = (51.0 - Mu1)/(Sig/math.sqrt(n2))\n",
        "print(p22)\n",
        "\n",
        "# As p22 > p21, so our z score lies in between these two p22 < z < p21.\n",
        "# Find probability at these z score\n",
        "P21 = 0\n",
        "P22 = 0.1038\n",
        "# now Beta = p22 - p21\n",
        "Beta21 = P22 - P21\n",
        "print(f\"Beta at Mu2 = 52 is : {Beta21}\")"
      ],
      "execution_count": null,
      "outputs": [
        {
          "output_type": "stream",
          "text": [
            "-5.059644256269407\n",
            "-1.2649110640673518\n",
            "Beta at Mu2 = 52 is : 0.1038\n"
          ],
          "name": "stdout"
        }
      ]
    },
    {
      "cell_type": "code",
      "metadata": {
        "colab": {
          "base_uri": "https://localhost:8080/"
        },
        "id": "0khgtbFPeMm3",
        "outputId": "c6d60b9a-1df8-416b-878a-1ec8b02381a8"
      },
      "source": [
        "# Calculate Beta at Mu2 = 50.5\n",
        "n2 = 10\n",
        "Sig =2.5\n",
        "Mu2 =50.5\n",
        "\n",
        "p23 = (48 - Mu2)/(Sig/math.sqrt(n2))\n",
        "print(p23)\n",
        "p24 = (51 - Mu2)/(Sig/math.sqrt(n2))\n",
        "print(p24)\n",
        "\n",
        "# so our z score lies in between these two p13 < z < p14.\n",
        "# Find probability at these z score\n",
        "P23 = 0.0008\n",
        "P24 = 0.7357\n",
        "# now Beta = p13 +(1 - p14)\n",
        "Beta22 = P23 +(1- P24)\n",
        "print(f\"Beta at Mu2 = 50.5 is : {Beta22}\")"
      ],
      "execution_count": null,
      "outputs": [
        {
          "output_type": "stream",
          "text": [
            "-3.1622776601683795\n",
            "0.6324555320336759\n",
            "Beta at Mu2 = 50.5 is : 0.2651\n"
          ],
          "name": "stdout"
        }
      ]
    },
    {
      "cell_type": "markdown",
      "metadata": {
        "id": "HQJxJiF0eRl9"
      },
      "source": [
        "iii) 48.81 < x < 51.9"
      ]
    },
    {
      "cell_type": "code",
      "metadata": {
        "colab": {
          "base_uri": "https://localhost:8080/"
        },
        "id": "g1fjhmeJePav",
        "outputId": "e8198c0e-e66c-4e39-e7cd-8879dd46b5be"
      },
      "source": [
        "# Calculate Beta at Mu1 = 52\n",
        "n3 = 16\n",
        "Sig =2.5\n",
        "Mu1 =52\n",
        "\n",
        "p31 = (48.81 - Mu1)/(Sig/math.sqrt(n3))\n",
        "print(p31)\n",
        "p32 = (51.9 - Mu1)/(Sig/math.sqrt(n3))\n",
        "print(p32)\n",
        "\n",
        "# so our z score lies in between these two p31 < z < p32.\n",
        "# Find probability at these z score\n",
        "P31 = 0.4364\n",
        "P32 = 0\n",
        "# now Beta = p31 - p32\n",
        "Beta31 = P31 - P32\n",
        "print(f\"Beta at Mu2 = 52 is : {Beta31}\")"
      ],
      "execution_count": null,
      "outputs": [
        {
          "output_type": "stream",
          "text": [
            "-5.1039999999999965\n",
            "-0.16000000000000228\n",
            "Beta at Mu2 = 52 is : 0.4364\n"
          ],
          "name": "stdout"
        }
      ]
    },
    {
      "cell_type": "code",
      "metadata": {
        "colab": {
          "base_uri": "https://localhost:8080/"
        },
        "id": "0UA3oR5reT_L",
        "outputId": "f27b8623-f9ca-4f45-eaea-721a2565ced6"
      },
      "source": [
        "# Calculate Beta at Mu2 = 50.5\n",
        "n3 = 16\n",
        "Sig =2.5\n",
        "Mu2 =50.5\n",
        "\n",
        "p33 = (48.81 - Mu2)/(Sig/math.sqrt(n3))\n",
        "print(p33)\n",
        "p34 = (51.9 - Mu2)/(Sig/math.sqrt(n3))\n",
        "print(p34)\n",
        "\n",
        "# so our z score lies in between these two p33 < z < 1- p34.\n",
        "# Find probability at these z score\n",
        "P33 = 0.0032\n",
        "P34 = 0.9875\n",
        "# now Beta = P33 + 1- P34\n",
        "Beta32 = P33 +1 - P34\n",
        "print(f\"Beta at Mu2 = 50.5 is : {Beta32}\")"
      ],
      "execution_count": null,
      "outputs": [
        {
          "output_type": "stream",
          "text": [
            "-2.703999999999996\n",
            "2.2399999999999975\n",
            "Beta at Mu2 = 50.5 is : 0.015700000000000047\n"
          ],
          "name": "stdout"
        }
      ]
    },
    {
      "cell_type": "markdown",
      "metadata": {
        "id": "XHv3MAPueZd4"
      },
      "source": [
        "iv) 48.42 <x < 51.58"
      ]
    },
    {
      "cell_type": "code",
      "metadata": {
        "colab": {
          "base_uri": "https://localhost:8080/"
        },
        "id": "3RPt0773eWlX",
        "outputId": "adc76a8d-aa40-4d2f-a7a5-567ce45c6ea7"
      },
      "source": [
        "# Calculate Beta at Mu1 = 52\n",
        "n4 = 16\n",
        "Sig =2.5\n",
        "Mu1 =52\n",
        "\n",
        "p41 = (48.42 - Mu1)/(Sig/math.sqrt(n4))\n",
        "print(p41)\n",
        "p42 = (51.58 - Mu1)/(Sig/math.sqrt(n4))\n",
        "print(p42)\n",
        "\n",
        "# As P42> P41, so our z score lies in between these two p42 < z < p41.\n",
        "# Find probability at these z score\n",
        "P41 = 0.0\n",
        "P42 = 0.2514\n",
        "# now Beta = p31 - p32\n",
        "Beta41 = P42 - P41\n",
        "print(f\"Beta at Mu2 = 52 is : {Beta41}\")"
      ],
      "execution_count": null,
      "outputs": [
        {
          "output_type": "stream",
          "text": [
            "-5.727999999999997\n",
            "-0.6720000000000027\n",
            "Beta at Mu2 = 52 is : 0.2514\n"
          ],
          "name": "stdout"
        }
      ]
    },
    {
      "cell_type": "code",
      "metadata": {
        "colab": {
          "base_uri": "https://localhost:8080/"
        },
        "id": "ZnX-WM9VecZi",
        "outputId": "b5ea371a-b7a7-49fa-fb4c-c91575f4250b"
      },
      "source": [
        "# Calculate Beta at Mu2 = 50.5\n",
        "n4 = 16\n",
        "Sig =2.5\n",
        "Mu2 =50.5\n",
        "\n",
        "p43 = (48.42 - Mu2)/(Sig/math.sqrt(n4))\n",
        "print(p33)\n",
        "p44 = (51.58 - Mu2)/(Sig/math.sqrt(n4))\n",
        "print(p34)\n",
        "\n",
        "# so our z score lies in between these two p33 < z < 1- p34.\n",
        "# Find probability at these z score\n",
        "P43 = 0.0035\n",
        "P44 = 0.9875\n",
        "# now Beta = P43 + 1- P44\n",
        "Beta42 = P43 +(1 - P44)\n",
        "print(f\"Beta at Mu2 = 50.5 is : {Beta42}\")"
      ],
      "execution_count": null,
      "outputs": [
        {
          "output_type": "stream",
          "text": [
            "-2.703999999999996\n",
            "2.2399999999999975\n",
            "Beta at Mu2 = 50.5 is : 0.015999999999999955\n"
          ],
          "name": "stdout"
        }
      ]
    },
    {
      "cell_type": "code",
      "metadata": {
        "id": "g1R-Z8q_etNz"
      },
      "source": [
        ""
      ],
      "execution_count": null,
      "outputs": []
    },
    {
      "cell_type": "markdown",
      "metadata": {
        "id": "aDnKsyoieh6j"
      },
      "source": [
        "# **Problem Statement 8**\n",
        "\n",
        "### Find the t-score for a sample size of 16 taken from a population with mean 10 when the sample mean is 12 and the sample standard deviation is 1.5."
      ]
    },
    {
      "cell_type": "code",
      "metadata": {
        "colab": {
          "base_uri": "https://localhost:8080/"
        },
        "id": "Iz5-vJ48egXn",
        "outputId": "7aee346b-6282-440f-ddfe-95fb60696315"
      },
      "source": [
        "#t_score = ?\n",
        "n = 16\n",
        "p_mean = 10\n",
        "sample_mean =12\n",
        "sample_std =1.5\n",
        "\n",
        "SE = sample_std/(n**0.5)\n",
        "t = (sample_mean-p_mean)/SE\n",
        "print(f\"t_score is {round((t),1)}\")"
      ],
      "execution_count": null,
      "outputs": [
        {
          "output_type": "stream",
          "text": [
            "t_score is 5.3\n"
          ],
          "name": "stdout"
        }
      ]
    },
    {
      "cell_type": "code",
      "metadata": {
        "id": "cLf_Tjo0erVP"
      },
      "source": [
        ""
      ],
      "execution_count": null,
      "outputs": []
    },
    {
      "cell_type": "markdown",
      "metadata": {
        "id": "Ej6KRmJ4eut6"
      },
      "source": [
        "# **Problem Statement 9**\n",
        "\n",
        "###Find the t-score below which we can expect 99% of sample means will fall if samples of size 16 are taken from a normally distributed population."
      ]
    },
    {
      "cell_type": "code",
      "metadata": {
        "colab": {
          "base_uri": "https://localhost:8080/"
        },
        "id": "fKeBrsaue3_G",
        "outputId": "b4f2442a-d47d-4ebe-ce3d-67679eee2e38"
      },
      "source": [
        "n= 16\n",
        "alpha=(1-0.99)/2\n",
        "print(f\"t_score is {stats.t.ppf(1-alpha,df=15)}\")"
      ],
      "execution_count": null,
      "outputs": [
        {
          "output_type": "stream",
          "text": [
            "t_score is 2.946712883338615\n"
          ],
          "name": "stdout"
        }
      ]
    },
    {
      "cell_type": "code",
      "metadata": {
        "id": "UXnRPV7Ne6Xq"
      },
      "source": [
        ""
      ],
      "execution_count": null,
      "outputs": []
    },
    {
      "cell_type": "markdown",
      "metadata": {
        "id": "NsvTG98_e76w"
      },
      "source": [
        "# **Problem Statement 10**\n",
        "\n",
        "###If a random sample of size 25 drawn from a normal population gives a mean of 60 and a standard deviation of 4, find the range of t-scores where we can expect to find the middle 95% of all sample means. Compute the probability that (−𝑡0.05 <𝑡<𝑡0.10)."
      ]
    },
    {
      "cell_type": "code",
      "metadata": {
        "colab": {
          "base_uri": "https://localhost:8080/"
        },
        "id": "fOmmT5ydfDvG",
        "outputId": "5ec0424d-1b82-46ba-f3a5-6402e4cfd85b"
      },
      "source": [
        "n=25\n",
        "std=4\n",
        "mean=60\n",
        "alpha=(1-0.95)/2\n",
        "t_score=stats.t.ppf(1-alpha,df=24)\n",
        "print(f\"Range is : {mean+t_score*(std/(n**0.5))} {mean-t_score*(std/(n**0.5))}\")"
      ],
      "execution_count": null,
      "outputs": [
        {
          "output_type": "stream",
          "text": [
            "Range is : 61.651118849302414 58.348881150697586\n"
          ],
          "name": "stdout"
        }
      ]
    },
    {
      "cell_type": "code",
      "metadata": {
        "colab": {
          "base_uri": "https://localhost:8080/"
        },
        "id": "3FXCGARYfHB-",
        "outputId": "be6b7ad2-463a-4f2c-ca31-0803d9e0cb22"
      },
      "source": [
        "p=stats.t.cdf(0.1,df=24)-stats.t.cdf(-0.05,df=24)\n",
        "print(f\"probability that (−𝑡0.05 <𝑡<𝑡0.10) is {p}\")"
      ],
      "execution_count": null,
      "outputs": [
        {
          "output_type": "stream",
          "text": [
            "probability that (−𝑡0.05 <𝑡<𝑡0.10) is 0.05914441613731247\n"
          ],
          "name": "stdout"
        }
      ]
    },
    {
      "cell_type": "code",
      "metadata": {
        "id": "X5v79rKbfI-S"
      },
      "source": [
        ""
      ],
      "execution_count": null,
      "outputs": []
    },
    {
      "cell_type": "markdown",
      "metadata": {
        "id": "O2c8eF18fJ96"
      },
      "source": [
        "# **Problem Statement 11:**\n",
        "\n",
        "###Two-tailed test for difference between two population means Is there evidence to conclude that the number of people travelling from Bangalore to Chennai is different from the number of people travelling from Bangalore to Hosur in a week, given the following: Population 1: Bangalore to Chennai n1 = 1200 x1 = 452 s1 = 212 Population 2: Bangalore to Hosur n2 = 800 x2 = 523 s2 = 185"
      ]
    },
    {
      "cell_type": "code",
      "metadata": {
        "colab": {
          "base_uri": "https://localhost:8080/"
        },
        "id": "B6VtUAEbfRdy",
        "outputId": "b181ddf9-dcc3-4bd4-89c2-69dbf5e19e1a"
      },
      "source": [
        "n1 = 1200 \n",
        "x1 = 452\n",
        "s1 = 212\n",
        "n2 = 800\n",
        "x2 = 523\n",
        "s2 = 185\n",
        "s_1=s1**2\n",
        "s_2=s2**2\n",
        "alpha=0.05\n",
        "se=((s_1/n1)+(s_2/n2))**0.5\n",
        "z_score=(x1-x2)/se\n",
        "print(f\"Z_Score is {z_score}\")\n",
        "print(f\"Critical region is {norm.ppf(alpha/2)} {-norm.ppf(alpha/2)}\")"
      ],
      "execution_count": null,
      "outputs": [
        {
          "output_type": "stream",
          "text": [
            "Z_Score is -7.926428526759299\n",
            "Critical region is -1.9599639845400545 1.9599639845400545\n"
          ],
          "name": "stdout"
        }
      ]
    },
    {
      "cell_type": "markdown",
      "metadata": {
        "id": "2Pnnion2fb4E"
      },
      "source": [
        "---\n",
        "\n",
        "**We reject null hypothesis since it lies within critical region at alpha=5%.So,number of people travelling from Bangalore to Chennai is different from the number of people travelling from Bangalore to Hosur in a week¶**\n",
        "\n",
        "---"
      ]
    },
    {
      "cell_type": "code",
      "metadata": {
        "id": "42tjgj_rfUG-"
      },
      "source": [
        ""
      ],
      "execution_count": null,
      "outputs": []
    },
    {
      "cell_type": "markdown",
      "metadata": {
        "id": "YjyqHhKffjO9"
      },
      "source": [
        "# **Problem Statement 12**\n",
        "\n",
        "###Is there evidence to conclude that the number of people preferring Duracell battery is different from the number of people preferring Energizer battery, given the following: Population 1: Duracell n1 = 100 x1 = 308 s1 = 84 Population 2: Energizer n2 = 100 x2 = 254 s2 = 67"
      ]
    },
    {
      "cell_type": "code",
      "metadata": {
        "colab": {
          "base_uri": "https://localhost:8080/"
        },
        "id": "vOs2i20mfpP2",
        "outputId": "c43b6488-9822-4593-ddd4-ebe503c08d07"
      },
      "source": [
        "n1 = 100\n",
        "x1 = 308\n",
        "s1 = 84\n",
        "n2 = 100\n",
        "x2 = 254\n",
        "s2 = 67\n",
        "s_1=s1**2\n",
        "s_2=s2**2\n",
        "alpha=0.05\n",
        "SE=((s_1/n1)+(s_2/n2))**0.5\n",
        "z_score=(x1-x2)/SE\n",
        "print(f\"Z_Score is {z_score}\")\n",
        "print(f\"Critical region is {norm.ppf(alpha/2)} {-norm.ppf(alpha/2)}\")"
      ],
      "execution_count": null,
      "outputs": [
        {
          "output_type": "stream",
          "text": [
            "Z_Score is 5.025702668336442\n",
            "Critical region is -1.9599639845400545 1.9599639845400545\n"
          ],
          "name": "stdout"
        }
      ]
    },
    {
      "cell_type": "markdown",
      "metadata": {
        "id": "hw4GmvgEfu0q"
      },
      "source": [
        "---\n",
        "\n",
        "**We reject null hypothesis since it lies within critical region at alpha=5%.So, number of people preferring Duracell battery is different from the number of people preferring Energizer battery**\n",
        "\n",
        "---"
      ]
    },
    {
      "cell_type": "code",
      "metadata": {
        "id": "jRlSjJQAfryb"
      },
      "source": [
        ""
      ],
      "execution_count": null,
      "outputs": []
    },
    {
      "cell_type": "markdown",
      "metadata": {
        "id": "--VasrWvf0YP"
      },
      "source": [
        "# **Problem Statement 13:**\n",
        "\n",
        "###Pooled estimate of the population variance Does the data provide sufficient evidence to conclude that average percentage increase in the price of sugar differs when it is sold at two different prices? Population 1: Price of sugar = Rs. 27.50 n1 = 14 x1 = 0.317% s1 = 0.12% Population 2: Price of sugar = Rs. 20.00 n2 = 9 x2 = 0.21% s2 = 0.11%"
      ]
    },
    {
      "cell_type": "code",
      "metadata": {
        "colab": {
          "base_uri": "https://localhost:8080/"
        },
        "id": "DU9BwJLbf6P5",
        "outputId": "79a6dc1c-19d9-468c-df8b-85f4c3b13519"
      },
      "source": [
        "n1 = 14 \n",
        "x1 = 0.317\n",
        "s1 = 0.12 \n",
        "n2 = 9 \n",
        "x2 = 0.21 \n",
        "s2 = 0.11\n",
        "s_1=s1**2\n",
        "s_2=s2**2\n",
        "s=((n1-1)*s_1)+((n2-1)*s_2)\n",
        "n=(n1+n2-2)\n",
        "se=(s/n)**0.5\n",
        "n_1=((1/n1)+(1/n2))**0.5\n",
        "t_score=(x1-x2)/se*n_1\n",
        "\n",
        "print(f\"T_score is {t_score}\")\n",
        "print(f\"Critical Region is {stats.t.ppf(1-0.05,df=n)}\")"
      ],
      "execution_count": null,
      "outputs": [
        {
          "output_type": "stream",
          "text": [
            "T_score is 0.3931089218182991\n",
            "Critical Region is 1.7207429028118775\n"
          ],
          "name": "stdout"
        }
      ]
    },
    {
      "cell_type": "markdown",
      "metadata": {
        "id": "mCWx42mfgAGu"
      },
      "source": [
        "\n",
        "\n",
        "---\n",
        "\n",
        "**We accept null hypothesis at alpha=5%.So,average price do not increase**\n",
        "\n",
        "---\n",
        "\n"
      ]
    },
    {
      "cell_type": "code",
      "metadata": {
        "id": "WCBj93tjf9q6"
      },
      "source": [
        ""
      ],
      "execution_count": null,
      "outputs": []
    },
    {
      "cell_type": "markdown",
      "metadata": {
        "id": "lcVcddhKgEb3"
      },
      "source": [
        "# **Problem Statement 14:**\n",
        "\n",
        "###The manufacturers of compact disk players want to test whether a small price reduction is enough to increase sales of their product. Is there evidence that the small price reduction is enough to increase sales of compact disk players? Population 1: Before reduction n1 = 15 x1 = Rs. 6598 s1 = Rs. 844 Population 2: After reduction n2 = 12 x2 = RS. 6870 s2 = Rs. 669"
      ]
    },
    {
      "cell_type": "code",
      "metadata": {
        "colab": {
          "base_uri": "https://localhost:8080/"
        },
        "id": "LF0Lt_JAgKSr",
        "outputId": "ac1c3675-9da1-4d6d-86b8-485d6b57f1e8"
      },
      "source": [
        "n1 = 15 \n",
        "x1 = 6598 \n",
        "s1 = 844 \n",
        "n2 = 12 \n",
        "x2 = 6870 \n",
        "s2 = 669\n",
        "s_1=s1**2\n",
        "s_2=s2**2\n",
        "\n",
        "s=((n1-1)*s_1)+((n2-1)*s_2)\n",
        "n=(n1+n2-2)\n",
        "se=(s/n)**0.5\n",
        "n_1=((1/n1)+(1/n2))**0.5\n",
        "t_score=(x1-x2)/se*n_1\n",
        "\n",
        "print(f\"T_score is {t_score}\")\n",
        "print(f\"Critical Region is {stats.t.ppf(0.05,df=n)}\")"
      ],
      "execution_count": null,
      "outputs": [
        {
          "output_type": "stream",
          "text": [
            "T_score is -0.1364745051598569\n",
            "Critical Region is -1.708140761251899\n"
          ],
          "name": "stdout"
        }
      ]
    },
    {
      "cell_type": "markdown",
      "metadata": {
        "id": "OpH-dSiEgNbo"
      },
      "source": [
        "\n",
        "\n",
        "---\n",
        "\n",
        "**We accept null hypothesis at alpha=5%.So average price remains same**\n",
        "\n",
        "---\n",
        "\n"
      ]
    },
    {
      "cell_type": "code",
      "metadata": {
        "id": "z9bTBjwwgMpX"
      },
      "source": [
        ""
      ],
      "execution_count": null,
      "outputs": []
    },
    {
      "cell_type": "markdown",
      "metadata": {
        "id": "cwaugpH_gSXK"
      },
      "source": [
        "# **Problem Statement 15:**\n",
        "\n",
        "###Comparisons of two population proportions when the hypothesized difference is zero Carry out a two-tailed test of the equality of banks’ share of the car loan market in 1980 and 1995. Population 1: 1980 n1 = 1000 x1 = 53 𝑝 1 = 0.53 Population 2: 1985 n2 = 100 x2 = 43 𝑝 2= 0.53"
      ]
    },
    {
      "cell_type": "code",
      "metadata": {
        "colab": {
          "base_uri": "https://localhost:8080/"
        },
        "id": "XFBHFKAzgZUR",
        "outputId": "0c6bc3f0-c34a-40c1-ab1e-a977769359b4"
      },
      "source": [
        "n1 = 1000 \n",
        "x1 = 53 \n",
        "𝑝1 = 0.53 \n",
        "n2 = 100 \n",
        "x2 = 43 \n",
        "𝑝2= 0.53\n",
        "p=(x1+x2)/(n1+n2)\n",
        "\n",
        "n=(1/n1)+(1/n2)\n",
        "p_1=p*(1-p)\n",
        "Z=(p1-p2)/((p_1*n)**0.5)\n",
        "print(f\"Z_score is {Z}\")\n",
        "print(f\"Critical region is {norm.ppf(0.05)}\")"
      ],
      "execution_count": null,
      "outputs": [
        {
          "output_type": "stream",
          "text": [
            "Z_score is 0.0\n",
            "Critical region is -1.6448536269514729\n"
          ],
          "name": "stdout"
        }
      ]
    },
    {
      "cell_type": "markdown",
      "metadata": {
        "id": "qDMGpCwQgiCC"
      },
      "source": [
        "\n",
        "\n",
        "---\n",
        "\n",
        "**We can't reject null hypothesis at alpha=10%**\n",
        "\n",
        "---\n",
        "\n"
      ]
    },
    {
      "cell_type": "code",
      "metadata": {
        "id": "O0-gTBqjgbxh"
      },
      "source": [
        ""
      ],
      "execution_count": null,
      "outputs": []
    },
    {
      "cell_type": "markdown",
      "metadata": {
        "id": "I4CWD0_bgmTu"
      },
      "source": [
        "# **Problem Statement 16:**\n",
        "\n",
        "###Carry out a one-tailed test to determine whether the population proportion of traveler’s check buyers who buy at least $2500 in checks when sweepstakes prizes are offered as at least 10% higher than the proportion of such buyers when no sweepstakes are on. Population 1: With sweepstakes n1 = 300 x1 = 120 𝑝 = 0.40 Population 2: No sweepstakes n2 = 700 x2 = 140 𝑝 2= 0.20"
      ]
    },
    {
      "cell_type": "code",
      "metadata": {
        "colab": {
          "base_uri": "https://localhost:8080/"
        },
        "id": "vciy0b7rgq2_",
        "outputId": "7dff7a80-3c08-4ec6-c82b-cb9191b20b85"
      },
      "source": [
        "n1 = 300 \n",
        "x1 = 120 \n",
        "𝑝1 = 0.40  \n",
        "n2 = 700 \n",
        "x2 = 140 \n",
        "𝑝2= 0.20\n",
        "p=(x1+x2)/(n1+n2)\n",
        "\n",
        "n=(1/n1)+(1/n2)\n",
        "p_1=p*(1-p)\n",
        "Z=(p1-p2-0.1)/((p_1*n)**0.5)\n",
        "print(f\"Z_score is {Z}\")\n",
        "print(f\"Critical region is {-norm.ppf(0.05)}\")"
      ],
      "execution_count": null,
      "outputs": [
        {
          "output_type": "stream",
          "text": [
            "Z_score is 3.303749523611152\n",
            "Critical region is 1.6448536269514729\n"
          ],
          "name": "stdout"
        }
      ]
    },
    {
      "cell_type": "markdown",
      "metadata": {
        "id": "ImGvrk2dgvmK"
      },
      "source": [
        "\n",
        "\n",
        "---\n",
        "\n",
        "\n",
        "**We reject null hypothesis at alpha=5%**\n",
        "\n",
        "---\n",
        "\n"
      ]
    },
    {
      "cell_type": "code",
      "metadata": {
        "id": "vLkyj6lcgtNC"
      },
      "source": [
        ""
      ],
      "execution_count": null,
      "outputs": []
    },
    {
      "cell_type": "markdown",
      "metadata": {
        "id": "_4SquvVog33u"
      },
      "source": [
        "# **Problem Statement 17:**\n",
        "\n",
        "###A die is thrown 132 times with the following results: Number turned up: 1, 2, 3, 4, 5, 6 Frequency: 16, 20, 25, 14, 29, 28 Is the die unbiased? Consider the degrees of freedom as 𝑝 − 1."
      ]
    },
    {
      "cell_type": "code",
      "metadata": {
        "colab": {
          "base_uri": "https://localhost:8080/"
        },
        "id": "oRjKtX8eg9g_",
        "outputId": "63fb5093-22ae-46a9-a0fd-680ff1414847"
      },
      "source": [
        "f_obs= [16, 20, 25, 14, 29, 28]\n",
        "f_exp= [22,22,22,22,22,22]\n",
        "result=stats.chisquare(f_obs,f_exp)\n",
        "print(f\"Chi square value is {result[0]} and p-value is {result[1]}\")\n",
        "print('Dias is unbiased.')"
      ],
      "execution_count": null,
      "outputs": [
        {
          "output_type": "stream",
          "text": [
            "Chi square value is 9.0 and p-value is 0.1090641579497725\n",
            "Dias is unbiased.\n"
          ],
          "name": "stdout"
        }
      ]
    },
    {
      "cell_type": "code",
      "metadata": {
        "id": "Z273ZbBzg_iL"
      },
      "source": [
        ""
      ],
      "execution_count": null,
      "outputs": []
    },
    {
      "cell_type": "markdown",
      "metadata": {
        "id": "QSG0nWFjhA60"
      },
      "source": [
        "# **Problem Statement 18:**\n",
        "\n",
        "###In a certain town, there are about one million eligible voters. A simple random sample of 10,000 eligible voters was chosen to study the relationship between gender and participation in the last election. The results are summarized in the following 2X2 (read two by two) contingency table:\n",
        "\n",
        "###We would want to check whether being a man or a woman (columns) is independent of having voted in the last election (rows). In other words, is “gender and voting independent”?"
      ]
    },
    {
      "cell_type": "code",
      "metadata": {
        "colab": {
          "base_uri": "https://localhost:8080/"
        },
        "id": "7eee3dVIhGfH",
        "outputId": "5731121a-f674-433d-a753-d24b45227975"
      },
      "source": [
        "observed_voted_men=2792\n",
        "observed_voted_women=3591\n",
        "observed_not_voted_men=1486\n",
        "observed_not_voted_women=2131\n",
        "total_voted=2792+3591\n",
        "total_not_voted=1486+2131\n",
        "total_men=2792+1486\n",
        "total_women=3591+2131\n",
        "expected_voted_men=(total_voted*total_men)/10000\n",
        "expected_voted_women=(total_voted*total_women)/10000\n",
        "expected_not_voted_men=(total_not_voted*total_men)/10000\n",
        "expected_not_voted_women=(total_not_voted*total_women)/10000\n",
        "chisquare1=(((observed_voted_women-expected_voted_women)**2)/expected_voted_women)\n",
        "chisquare2=(((observed_voted_men-expected_voted_men)**2)/expected_voted_men)\n",
        "chisquare3=(((observed_not_voted_men-expected_not_voted_men)**2)/expected_not_voted_men)\n",
        "chisquare4=(((observed_not_voted_women-expected_not_voted_women)**2)/expected_not_voted_women)\n",
        "chisquare=chisquare1+chisquare2+chisquare3+chisquare4\n",
        "print(f\"Chi Square value is {chisquare}\")\n",
        "print(f\"Critical region with alpha=0.05 is 3.84\")\n",
        "print(\"We reject null hypothesis.It is not gender and voting independent\")"
      ],
      "execution_count": null,
      "outputs": [
        {
          "output_type": "stream",
          "text": [
            "Chi Square value is 6.660455899328067\n",
            "Critical region with alpha=0.05 is 3.84\n",
            "We reject null hypothesis.It is not gender and voting independent\n"
          ],
          "name": "stdout"
        }
      ]
    },
    {
      "cell_type": "code",
      "metadata": {
        "id": "31AJsEDhhOyi"
      },
      "source": [
        ""
      ],
      "execution_count": null,
      "outputs": []
    },
    {
      "cell_type": "markdown",
      "metadata": {
        "id": "slQkNLXthYzp"
      },
      "source": [
        "# **Problem Statement 19:**\n",
        "\n",
        "###A sample of 100 voters are asked which of four candidates they would vote for in an election. The number supporting each candidate is given below:\n",
        "\n",
        "###Do the data suggest that all candidates are equally popular? [Chi-Square = 14.96,with 3 df, 𝑝 0.05 .]"
      ]
    },
    {
      "cell_type": "code",
      "metadata": {
        "colab": {
          "base_uri": "https://localhost:8080/"
        },
        "id": "W_NiKA_-hfma",
        "outputId": "631b2ed5-376a-4c6e-ed06-7bc24e3b8878"
      },
      "source": [
        "#print(np.mean([41,19,24,16]))\n",
        "obs=[41,19,24,16]\n",
        "exp=[25,25,25,25]\n",
        "result=stats.chisquare(obs,exp)\n",
        "print(f\"Chi Square value is {result[0]}\")\n",
        "print(f\"Critical region with 3df and alpha=0.05 is 7.82\")\n",
        "print(\"We reject null hypothesis. All candidates are not equally popular\")"
      ],
      "execution_count": null,
      "outputs": [
        {
          "output_type": "stream",
          "text": [
            "Chi Square value is 14.959999999999999\n",
            "Critical region with 3df and alpha=0.05 is 7.82\n",
            "We reject null hypothesis. All candidates are not equally popular\n"
          ],
          "name": "stdout"
        }
      ]
    },
    {
      "cell_type": "code",
      "metadata": {
        "id": "oLWhp1FRhjLP"
      },
      "source": [
        ""
      ],
      "execution_count": null,
      "outputs": []
    },
    {
      "cell_type": "markdown",
      "metadata": {
        "id": "aNDEvLByhmij"
      },
      "source": [
        "# **Problem Statement 20:**\n",
        "\n",
        "###Children of three ages are asked to indicate their preference for three photographs of adults. Do the data suggest that there is a significant relationship between age and photograph preference? What is wrong with this study? [Chi-Square = 29.6, with 4 df: 𝑝 < 0.05]."
      ]
    },
    {
      "cell_type": "code",
      "metadata": {
        "colab": {
          "base_uri": "https://localhost:8080/"
        },
        "id": "iVz37GiehrVG",
        "outputId": "72713801-8991-4904-e914-2f5c38bad9db"
      },
      "source": [
        "obs=([[18,22,20],[2,28,40],[20,10,40]])\n",
        "result=chi2_contingency(obs)\n",
        "print(f\"Chi Square value is {result[0]}\")\n",
        "print(f\"Critical region with 4df and alpha=0.001 is 18.47\")\n",
        "print(\"We reject null hypothesis.There is significant relationship between age and photograph preference\")"
      ],
      "execution_count": null,
      "outputs": [
        {
          "output_type": "stream",
          "text": [
            "Chi Square value is 29.603174603174608\n",
            "Critical region with 4df and alpha=0.001 is 18.47\n",
            "We reject null hypothesis.There is significant relationship between age and photograph preference\n"
          ],
          "name": "stdout"
        }
      ]
    },
    {
      "cell_type": "code",
      "metadata": {
        "id": "5AJ1dN7OhtqX"
      },
      "source": [
        ""
      ],
      "execution_count": null,
      "outputs": []
    },
    {
      "cell_type": "markdown",
      "metadata": {
        "id": "E5Swgr4Ahvcs"
      },
      "source": [
        "# **Problem Statement 21:**\n",
        "\n",
        "###A study of conformity using the Asch paradigm involved two conditions: one where one confederate supported the true judgement and another where no confederate gave the correct response.\n",
        "\n",
        "###Is there a significant difference between the \"support\" and \"no support\" conditions in the frequency with which individuals are likely to conform? [Chi-Square = 19.87, with 1 df: 𝑝 < 0.05]."
      ]
    },
    {
      "cell_type": "code",
      "metadata": {
        "colab": {
          "base_uri": "https://localhost:8080/"
        },
        "id": "I1L74YkNh46h",
        "outputId": "7a7b1fce-8801-47b0-88fc-e0ca61fe5c83"
      },
      "source": [
        "obs=np.array([[18,40],[32,10]])\n",
        "result=chi2_contingency(obs)\n",
        "print(f\"Chi Square value is {result[0]}\")\n",
        "print(f\"Critical region with 1df and alpha=0.001 is 10.83\")\n",
        "print(\"We reject null hypoythesis.So,there is significant difference between the 'support' and 'no support' conditions in the frequency with which individuals are likely to conform\")"
      ],
      "execution_count": null,
      "outputs": [
        {
          "output_type": "stream",
          "text": [
            "Chi Square value is 18.10344827586207\n",
            "Critical region with 1df and alpha=0.001 is 10.83\n",
            "We reject null hypoythesis.So,there is significant difference between the 'support' and 'no support' conditions in the frequency with which individuals are likely to conform\n"
          ],
          "name": "stdout"
        }
      ]
    },
    {
      "cell_type": "code",
      "metadata": {
        "id": "fmd9go0QiDEO"
      },
      "source": [
        ""
      ],
      "execution_count": null,
      "outputs": []
    },
    {
      "cell_type": "markdown",
      "metadata": {
        "id": "hLJ7V8IoiFBl"
      },
      "source": [
        "# **Problem Statement 22:**\n",
        "###We want to test whether short people differ with respect to their leadership qualities (Genghis Khan, Adolf Hitler and Napoleon were all stature-deprived, and how many midget MP's are there?) The following table shows the frequencies with which 43 short people and 52 tall people were categorized as \"leaders\", \"followers\" or as \"unclassifiable\". Is there a relationship between height and leadership qualities? [Chi-Square = 10.71, with 2 df: 𝑝 < 0.01]."
      ]
    },
    {
      "cell_type": "code",
      "metadata": {
        "colab": {
          "base_uri": "https://localhost:8080/"
        },
        "id": "74cum6bJiLei",
        "outputId": "4f7d9382-abcd-4a3a-bf9b-03b16613e1c2"
      },
      "source": [
        "obs=([[12,32],[22,14],[9,6]])\n",
        "result=chi2_contingency(obs)\n",
        "print(f\"Chi Square value is {result[0]}\")\n",
        "print(f\"Critical region with 2df and alpha=0.001 is 13.82\")\n",
        "print(\"We accept null hypothesis.there is no relationship between height and leadership qualities\")"
      ],
      "execution_count": null,
      "outputs": [
        {
          "output_type": "stream",
          "text": [
            "Chi Square value is 10.712198008709638\n",
            "Critical region with 2df and alpha=0.001 is 13.82\n",
            "We accept null hypothesis.there is no relationship between height and leadership qualities\n"
          ],
          "name": "stdout"
        }
      ]
    },
    {
      "cell_type": "code",
      "metadata": {
        "id": "P-c9AEWKiNTq"
      },
      "source": [
        ""
      ],
      "execution_count": null,
      "outputs": []
    },
    {
      "cell_type": "markdown",
      "metadata": {
        "id": "7S-L8I_-iPIf"
      },
      "source": [
        "# **Problem Statement 23:**\n",
        "\n",
        "###Each respondent in the Current Population Survey of March 1993 was classified as employed, unemployed, or outside the labor force. The results for men in California age 35- 44 can be cross-tabulated by marital status, as follows:\n",
        "\n",
        "###Men of different marital status seem to have different distributions of labor force status. Or is this just chance variation? (you may assume the table results from a simple random sample.)"
      ]
    },
    {
      "cell_type": "code",
      "metadata": {
        "colab": {
          "base_uri": "https://localhost:8080/"
        },
        "id": "ny5pz-zfiU2y",
        "outputId": "1ec48569-2df9-4d2d-a5f6-e6b42088142a"
      },
      "source": [
        "obs = np.array([[679,103,114], [63,10,20],[42,18,25]])\n",
        "result=chi2_contingency(obs)\n",
        "print(f\"Chi Square value is {result[0]}\")\n",
        "print(f\"Critical region with 4df and alpha=0.001 is 18.47\")\n",
        "print(\"We reject null hypothesis at alpha=0.001 .there is relationship between martial status and employment status\")"
      ],
      "execution_count": null,
      "outputs": [
        {
          "output_type": "stream",
          "text": [
            "Chi Square value is 31.61310319407798\n",
            "Critical region with 4df and alpha=0.001 is 18.47\n",
            "We reject null hypothesis at alpha=0.001 .there is relationship between martial status and employment status\n"
          ],
          "name": "stdout"
        }
      ]
    },
    {
      "cell_type": "code",
      "metadata": {
        "id": "J4VQcKGYidCm"
      },
      "source": [
        ""
      ],
      "execution_count": null,
      "outputs": []
    }
  ]
}