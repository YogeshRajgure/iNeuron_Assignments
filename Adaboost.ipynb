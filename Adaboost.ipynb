{
  "nbformat": 4,
  "nbformat_minor": 0,
  "metadata": {
    "accelerator": "TPU",
    "colab": {
      "name": "Adaboost.ipynb",
      "provenance": [],
      "collapsed_sections": [],
      "machine_shape": "hm",
      "include_colab_link": true
    },
    "kernelspec": {
      "display_name": "Python 3",
      "name": "python3"
    }
  },
  "cells": [
    {
      "cell_type": "markdown",
      "metadata": {
        "id": "view-in-github",
        "colab_type": "text"
      },
      "source": [
        "<a href=\"https://colab.research.google.com/github/YogeshRajgure/iNeuron_Assignments/blob/main/Adaboost.ipynb\" target=\"_parent\"><img src=\"https://colab.research.google.com/assets/colab-badge.svg\" alt=\"Open In Colab\"/></a>"
      ]
    },
    {
      "cell_type": "markdown",
      "metadata": {
        "id": "4cbgwZWWfWpp"
      },
      "source": [
        "# New Section"
      ]
    },
    {
      "cell_type": "code",
      "metadata": {
        "id": "tAb77yZ9fzMG"
      },
      "source": [
        "import pandas as pd\n",
        "from nltk.tokenize import sent_tokenize, word_tokenize\n",
        "from nltk.stem.wordnet import WordNetLemmatizer\n",
        "from nltk.corpus import stopwords\n",
        "import csv"
      ],
      "execution_count": null,
      "outputs": []
    },
    {
      "cell_type": "code",
      "metadata": {
        "colab": {
          "base_uri": "https://localhost:8080/"
        },
        "id": "xj7QiZN3PgGl",
        "outputId": "fc6c1c89-c4b6-4e8e-bfce-07afea1a98af"
      },
      "source": [
        "from google.colab import drive\n",
        "drive.mount('/content/drive')"
      ],
      "execution_count": null,
      "outputs": [
        {
          "output_type": "stream",
          "text": [
            "Mounted at /content/drive\n"
          ],
          "name": "stdout"
        }
      ]
    },
    {
      "cell_type": "code",
      "metadata": {
        "colab": {
          "base_uri": "https://localhost:8080/"
        },
        "id": "pafL7Li0jyXW",
        "outputId": "b751fb1c-1a69-49d5-9165-c16d40333b7f"
      },
      "source": [
        "import nltk\n",
        "nltk.download('punkt')\n",
        "nltk.download('stopwords')\n",
        "nltk.download('wordnet')"
      ],
      "execution_count": null,
      "outputs": [
        {
          "output_type": "stream",
          "text": [
            "[nltk_data] Downloading package punkt to /root/nltk_data...\n",
            "[nltk_data]   Unzipping tokenizers/punkt.zip.\n",
            "[nltk_data] Downloading package stopwords to /root/nltk_data...\n",
            "[nltk_data]   Unzipping corpora/stopwords.zip.\n",
            "[nltk_data] Downloading package wordnet to /root/nltk_data...\n",
            "[nltk_data]   Unzipping corpora/wordnet.zip.\n"
          ],
          "name": "stdout"
        },
        {
          "output_type": "execute_result",
          "data": {
            "text/plain": [
              "True"
            ]
          },
          "metadata": {
            "tags": []
          },
          "execution_count": 3
        }
      ]
    },
    {
      "cell_type": "code",
      "metadata": {
        "id": "EiK5CgKoPvv4"
      },
      "source": [
        "import pandas as pd\n",
        "import numpy as np\n",
        "import xgboost as xgb\n",
        "import pickle\n",
        "from sklearn import datasets\n",
        "from xgboost import XGBClassifier\n",
        "from sklearn.metrics import accuracy_score"
      ],
      "execution_count": null,
      "outputs": []
    },
    {
      "cell_type": "code",
      "metadata": {
        "id": "SJGbDSa_PxsR"
      },
      "source": [
        "data1 = pd.read_csv('/content/drive/MyDrive/datasets/train.csv', escapechar='\\\\', quoting=csv.QUOTE_NONE)\n",
        "data2 = pd.read_csv('/content/drive/MyDrive/datasets/test.csv', escapechar='\\\\', quoting=csv.QUOTE_NONE)"
      ],
      "execution_count": null,
      "outputs": []
    },
    {
      "cell_type": "code",
      "metadata": {
        "id": "qeq2EZw_Pxoo"
      },
      "source": [
        "train = data1.copy()\n",
        "test = data2.copy()"
      ],
      "execution_count": null,
      "outputs": []
    },
    {
      "cell_type": "code",
      "metadata": {
        "id": "5O9gEp-yPxl8"
      },
      "source": [
        "train_t = list(train['TITLE'])               #for train\n",
        "train_d = list(train['DESCRIPTION'])           #for train\n",
        "train_bp = list(train['BULLET_POINTS'])          #for train\n",
        "train_bR = list(train['BRAND'])                #for train\n",
        "train_browse = list(train['BROWSE_NODE_ID'])      #for testing"
      ],
      "execution_count": null,
      "outputs": []
    },
    {
      "cell_type": "code",
      "metadata": {
        "id": "-owkKznPPxja"
      },
      "source": [
        "test_t = list(test['TITLE'])               #for test\n",
        "test_d = list(test['DESCRIPTION'])           #for test\n",
        "test_bp = list(test['BULLET_POINTS'])          #for test\n",
        "test_bR = list(test['BRAND'])                #for test\n",
        "test_browse = list(test['PRODUCT_ID'])      #for testing"
      ],
      "execution_count": null,
      "outputs": []
    },
    {
      "cell_type": "code",
      "metadata": {
        "id": "JOidV-uXPxhD"
      },
      "source": [
        "from nltk.tokenize import RegexpTokenizer\n",
        "from nltk.stem.porter import PorterStemmer"
      ],
      "execution_count": null,
      "outputs": []
    },
    {
      "cell_type": "code",
      "metadata": {
        "id": "2Z1Ls5BGPxeY"
      },
      "source": [
        "tokenizer = RegexpTokenizer(r'\\w+')\n",
        "en_stopwords = set(stopwords.words('english'))\n",
        "ps = PorterStemmer()"
      ],
      "execution_count": null,
      "outputs": []
    },
    {
      "cell_type": "code",
      "metadata": {
        "id": "sv-tSNzNPxbz"
      },
      "source": [
        "train = train[~train['DESCRIPTION'].isnull()]"
      ],
      "execution_count": null,
      "outputs": []
    },
    {
      "cell_type": "code",
      "metadata": {
        "id": "ozCrvdmyPxZJ"
      },
      "source": [
        "train = train[~train['BULLET_POINTS'].isnull()]"
      ],
      "execution_count": null,
      "outputs": []
    },
    {
      "cell_type": "code",
      "metadata": {
        "id": "A0vWnibdPxWa"
      },
      "source": [
        "train = train[~train['BRAND'].isnull()]"
      ],
      "execution_count": null,
      "outputs": []
    },
    {
      "cell_type": "code",
      "metadata": {
        "id": "Nw6EeDWVPxT8"
      },
      "source": [
        "train = train[~train['TITLE'].isnull()]"
      ],
      "execution_count": null,
      "outputs": []
    },
    {
      "cell_type": "code",
      "metadata": {
        "id": "Q12_retnPxRU"
      },
      "source": [
        "def combine():\n",
        "  com = []\n",
        "  for i in range(0, 50000):\n",
        "    ti = train['TITLE'].iloc[i]\n",
        "    des = train['DESCRIPTION'].iloc[i]\n",
        "    bp = train['BULLET_POINTS'].iloc[i]\n",
        "    br = train['BRAND'].iloc[i]\n",
        "    c = str(ti) + str(des) + str(bp) +str(br)\n",
        "    com.append(c)\n",
        "  return com"
      ],
      "execution_count": null,
      "outputs": []
    },
    {
      "cell_type": "code",
      "metadata": {
        "id": "nIkl5J54PxO9"
      },
      "source": [
        "def combine1():\n",
        "  com1 = []\n",
        "  for i in range(0, 110775):\n",
        "    ti = test['TITLE'].iloc[i]\n",
        "    des = test['DESCRIPTION'].iloc[i]\n",
        "    bp = test['BULLET_POINTS'].iloc[i]\n",
        "    br = test['BRAND'].iloc[i]\n",
        "    c1 = str(ti) + str(des) + str(bp) + str(br)\n",
        "    com1.append(c1)\n",
        "  return com1"
      ],
      "execution_count": null,
      "outputs": []
    },
    {
      "cell_type": "code",
      "metadata": {
        "id": "NfQyYiPMPxMX"
      },
      "source": [
        "text12 = combine1()"
      ],
      "execution_count": null,
      "outputs": []
    },
    {
      "cell_type": "code",
      "metadata": {
        "id": "4lQ6H8jiPxKM"
      },
      "source": [
        "text11 = combine()"
      ],
      "execution_count": null,
      "outputs": []
    },
    {
      "cell_type": "code",
      "metadata": {
        "id": "6Q74BKFuQJiS"
      },
      "source": [
        "def getCleanedText(text):\n",
        "  \n",
        "  text = str(text).lower()\n",
        "\n",
        "  tokens = tokenizer.tokenize(text)\n",
        "  new_tokens = [token for token in tokens if token not in en_stopwords]\n",
        "  stemmed_tokens = [ps.stem(tokens) for tokens in new_tokens]\n",
        "\n",
        "  clean_text = \" \".join(stemmed_tokens)\n",
        "\n",
        "  return clean_text"
      ],
      "execution_count": null,
      "outputs": []
    },
    {
      "cell_type": "code",
      "metadata": {
        "colab": {
          "base_uri": "https://localhost:8080/",
          "height": 35
        },
        "id": "nQE_kvoQQPrs",
        "outputId": "3639db22-e484-45d7-e0d4-e08febbb6afe"
      },
      "source": [
        "train_t[0]"
      ],
      "execution_count": null,
      "outputs": [
        {
          "output_type": "execute_result",
          "data": {
            "application/vnd.google.colaboratory.intrinsic+json": {
              "type": "string"
            },
            "text/plain": [
              "'Pete The Cat Bedtime Blues Doll, 14.5 Inch'"
            ]
          },
          "metadata": {
            "tags": []
          },
          "execution_count": 21
        }
      ]
    },
    {
      "cell_type": "code",
      "metadata": {
        "id": "DvctLbQBQSML"
      },
      "source": [
        "X_clean = [getCleanedText(i) for i in train_t[430004:530004]]     #clean text"
      ],
      "execution_count": null,
      "outputs": []
    },
    {
      "cell_type": "code",
      "metadata": {
        "id": "byfRIv5YQTsI"
      },
      "source": [
        "Xt_clean = [getCleanedText(i) for i in test_t]      #clean text of test"
      ],
      "execution_count": null,
      "outputs": []
    },
    {
      "cell_type": "code",
      "metadata": {
        "id": "pZAfnEYEQTor"
      },
      "source": [
        "X_clean1 = X_clean"
      ],
      "execution_count": null,
      "outputs": []
    },
    {
      "cell_type": "code",
      "metadata": {
        "id": "nTIyeMatQTmf"
      },
      "source": [
        "Xt_clean1 = Xt_clean "
      ],
      "execution_count": null,
      "outputs": []
    },
    {
      "cell_type": "code",
      "metadata": {
        "id": "4J-wATgKQTSW"
      },
      "source": [
        "t_bro = train_browse"
      ],
      "execution_count": null,
      "outputs": []
    },
    {
      "cell_type": "code",
      "metadata": {
        "id": "NyLAM05_QTPE"
      },
      "source": [
        "a = X_clean1\n",
        "b = t_bro[430004:530004]"
      ],
      "execution_count": null,
      "outputs": []
    },
    {
      "cell_type": "code",
      "metadata": {
        "id": "muR3kFHhQTL6"
      },
      "source": [
        "from sklearn.feature_extraction.text import CountVectorizer"
      ],
      "execution_count": null,
      "outputs": []
    },
    {
      "cell_type": "code",
      "metadata": {
        "id": "E7eIJ_KBQTJO"
      },
      "source": [
        "cv = CountVectorizer()"
      ],
      "execution_count": null,
      "outputs": []
    },
    {
      "cell_type": "code",
      "metadata": {
        "id": "jfQkQtD3QTGB"
      },
      "source": [
        "X_vec = cv.fit_transform(a)"
      ],
      "execution_count": null,
      "outputs": []
    },
    {
      "cell_type": "code",
      "metadata": {
        "colab": {
          "base_uri": "https://localhost:8080/"
        },
        "id": "PaQRXD9zQTDR",
        "outputId": "feaf0e9c-1a86-4f8d-ebbf-55e10352d661"
      },
      "source": [
        "X_vec.shape"
      ],
      "execution_count": null,
      "outputs": [
        {
          "output_type": "execute_result",
          "data": {
            "text/plain": [
              "(100000, 89280)"
            ]
          },
          "metadata": {
            "tags": []
          },
          "execution_count": 31
        }
      ]
    },
    {
      "cell_type": "code",
      "metadata": {
        "id": "iZLEdq5qQkvt"
      },
      "source": [
        "Xt_vec = cv.transform(Xt_clean1)"
      ],
      "execution_count": null,
      "outputs": []
    },
    {
      "cell_type": "code",
      "metadata": {
        "colab": {
          "base_uri": "https://localhost:8080/"
        },
        "id": "rdGZeiSLQmPv",
        "outputId": "4eee5f2a-dda5-4add-e67d-1db1f6206a79"
      },
      "source": [
        "Xt_vec.shape"
      ],
      "execution_count": null,
      "outputs": [
        {
          "output_type": "execute_result",
          "data": {
            "text/plain": [
              "(110775, 89280)"
            ]
          },
          "metadata": {
            "tags": []
          },
          "execution_count": 33
        }
      ]
    },
    {
      "cell_type": "code",
      "metadata": {
        "colab": {
          "background_save": true,
          "base_uri": "https://localhost:8080/",
          "height": 337
        },
        "id": "5Hzg1NLbuWdo",
        "outputId": "d3ca4f22-efde-4522-b2e1-69d199268255"
      },
      "source": [
        "from sklearn.ensemble import AdaBoostClassifier\n",
        "adaboost = AdaBoostClassifier(n_estimators=100, base_estimator= None,learning_rate=1, random_state = 1)\n",
        "adaboost.fit(X_vec, b)"
      ],
      "execution_count": null,
      "outputs": [
        {
          "output_type": "execute_result",
          "data": {
            "text/plain": [
              "AdaBoostClassifier(algorithm='SAMME.R', base_estimator=None, learning_rate=1,\n",
              "                   n_estimators=100, random_state=1)"
            ]
          },
          "metadata": {
            "tags": []
          },
          "execution_count": 0
        }
      ]
    },
    {
      "cell_type": "code",
      "metadata": {
        "id": "lo-AYd_kxcpT"
      },
      "source": [
        ""
      ],
      "execution_count": null,
      "outputs": []
    }
  ]
}