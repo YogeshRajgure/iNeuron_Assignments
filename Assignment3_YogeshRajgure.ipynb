{
  "nbformat": 4,
  "nbformat_minor": 0,
  "metadata": {
    "colab": {
      "name": "Assignment3_YogeshRajgure.ipynb",
      "provenance": [],
      "authorship_tag": "ABX9TyOVOZKSEw7+1BnTv3ZIbIih",
      "include_colab_link": true
    },
    "kernelspec": {
      "name": "python3",
      "display_name": "Python 3"
    }
  },
  "cells": [
    {
      "cell_type": "markdown",
      "metadata": {
        "id": "view-in-github",
        "colab_type": "text"
      },
      "source": [
        "<a href=\"https://colab.research.google.com/github/YogeshRajgure/iNeuron_Assignments/blob/main/Assignment3_YogeshRajgure.ipynb\" target=\"_parent\"><img src=\"https://colab.research.google.com/assets/colab-badge.svg\" alt=\"Open In Colab\"/></a>"
      ]
    },
    {
      "cell_type": "markdown",
      "metadata": {
        "id": "VlpsGKjO5nX2"
      },
      "source": [
        "### **1.1 Write a Python Program to implement your own myreduce() function which works exactly like Python's built-in function reduce()**"
      ]
    },
    {
      "cell_type": "code",
      "metadata": {
        "id": "Rhv7cJ2F56UZ"
      },
      "source": [
        "def myreduce(func, lisst):\n",
        "\n",
        "  for i in range(1, int(len(lisst)-1) ) :\n",
        "    lisst[i] = func(lisst[i-1], lisst[i])\n",
        "  \n",
        "  return lisst[i]\n",
        "\n"
      ],
      "execution_count": null,
      "outputs": []
    },
    {
      "cell_type": "markdown",
      "metadata": {
        "id": "gf_6H5Ww8WuO"
      },
      "source": [
        "### **1.2 Write a Python program to implement your own myfilter() function which works exactly like Python's built-in function filter()**"
      ]
    },
    {
      "cell_type": "code",
      "metadata": {
        "id": "UyRu-vE_58YV"
      },
      "source": [
        "def myfilter(func, lisst) :\n",
        "\n",
        "  filtered = list()\n",
        "  for symbol in lisst :\n",
        "    if func(symbol) == True :\n",
        "      filtered.append(symbol)\n",
        "  \n",
        "  return filtered      #list(set(filtered)) -- this if we do not want duplicate entries\n"
      ],
      "execution_count": null,
      "outputs": []
    },
    {
      "cell_type": "markdown",
      "metadata": {
        "id": "HvD-MBTk_u7R"
      },
      "source": [
        "### **Implement List comprehensions to produce the following lists.**\n",
        "Write List comprehensions to produce the following Lists\n",
        "\n",
        "['x', 'xx', 'xxx', 'xxxx', 'y', 'yy', 'yyy', 'yyyy', 'z', 'zz', 'zzz', 'zzzz']\n",
        "\n",
        "['x', 'y', 'z', 'xx', 'yy', 'zz', 'xxx', 'yyy', 'zzz', 'xxxx', 'yyyy', 'zzzz']\n",
        "\n",
        "[[2], [3], [4], [3], [4], [5], [4], [5], [6]] \n",
        "\n",
        "[[2, 3, 4, 5], [3, 4, 5, 6],[4, 5, 6, 7], [5, 6, 7, 8]]\n",
        "\n",
        "[(1, 1), (2, 1), (3, 1), (1, 2), (2, 2), (3, 2), (1, 3), (2, 3), (3, 3)]"
      ]
    },
    {
      "cell_type": "code",
      "metadata": {
        "colab": {
          "base_uri": "https://localhost:8080/"
        },
        "id": "cipL3ve--4cO",
        "outputId": "552a788e-0244-46e0-9086-a28bf0ad342d"
      },
      "source": [
        "#['x', 'xx', 'xxx', 'xxxx', 'y', 'yy', 'yyy', 'yyyy', 'z', 'zz', 'zzz', 'zzzz']\n",
        "[\"\".join([i]*j) for j in range(1,5) for i in ['x','y','z']]\n"
      ],
      "execution_count": null,
      "outputs": [
        {
          "output_type": "execute_result",
          "data": {
            "text/plain": [
              "[(1, 1), (2, 1), (3, 1), (1, 2), (2, 2), (3, 2), (1, 3), (2, 3), (3, 3)]"
            ]
          },
          "metadata": {
            "tags": []
          },
          "execution_count": 51
        }
      ]
    },
    {
      "cell_type": "code",
      "metadata": {
        "colab": {
          "base_uri": "https://localhost:8080/"
        },
        "id": "ZUkeSJkQ_JGO",
        "outputId": "b171caec-3dc2-4413-dad8-9d34943622fe"
      },
      "source": [
        "#['x', 'y', 'z', 'xx', 'yy', 'zz', 'xxx', 'yyy', 'zzz', 'xxxx', 'yyyy', 'zzzz']\n",
        "a = ['x','y','z']\n",
        "[a[i] if i<3 else a[i-3]*2 if i < 6 else a[i-6]*3 for i in range(len(a*3))]\n"
      ],
      "execution_count": null,
      "outputs": [
        {
          "output_type": "execute_result",
          "data": {
            "text/plain": [
              "['x', 'y', 'z', 'xx', 'yy', 'zz', 'xxx', 'yyy', 'zzz']"
            ]
          },
          "metadata": {
            "tags": []
          },
          "execution_count": 27
        }
      ]
    },
    {
      "cell_type": "code",
      "metadata": {
        "colab": {
          "base_uri": "https://localhost:8080/"
        },
        "id": "XILfb-D0D0dZ",
        "outputId": "129c862c-a57f-4281-f7ed-07f6cb98b576"
      },
      "source": [
        "# [[2], [3], [4], [3], [4], [5], [4], [5], [6]]\n",
        "[[x+y] for x in range(2,5) for y in range(3)]\n"
      ],
      "execution_count": null,
      "outputs": [
        {
          "output_type": "execute_result",
          "data": {
            "text/plain": [
              "[[2], [3], [4], [3], [4], [5], [4], [5], [6]]"
            ]
          },
          "metadata": {
            "tags": []
          },
          "execution_count": 52
        }
      ]
    },
    {
      "cell_type": "code",
      "metadata": {
        "colab": {
          "base_uri": "https://localhost:8080/"
        },
        "id": "LD56-YXoO0P6",
        "outputId": "e6251661-24cd-427b-a6f4-e510b2a2fb8d"
      },
      "source": [
        "#[[2, 3, 4, 5], [3, 4, 5, 6],[4, 5, 6, 7], [5, 6, 7, 8]]\n",
        "[[i,i+1,i+2,i+3] for i in range(2, 6)]\n",
        "\n"
      ],
      "execution_count": null,
      "outputs": [
        {
          "output_type": "execute_result",
          "data": {
            "text/plain": [
              "[[2, 3, 4, 5], [3, 4, 5, 6], [4, 5, 6, 7], [5, 6, 7, 8]]"
            ]
          },
          "metadata": {
            "tags": []
          },
          "execution_count": 53
        }
      ]
    },
    {
      "cell_type": "code",
      "metadata": {
        "id": "d-Sik6_2O1zr",
        "colab": {
          "base_uri": "https://localhost:8080/"
        },
        "outputId": "b6b3b981-8cc2-45e4-8fea-694249bc1043"
      },
      "source": [
        "#[(1, 1), (2, 1), (3, 1), (1, 2), (2, 2), (3, 2), (1, 3), (2, 3), (3, 3)]\n",
        "[(i,j) for j in range(1,4) for i in range(1,4)]"
      ],
      "execution_count": null,
      "outputs": [
        {
          "output_type": "execute_result",
          "data": {
            "text/plain": [
              "[(1, 1), (2, 1), (3, 1), (1, 2), (2, 2), (3, 2), (1, 3), (2, 3), (3, 3)]"
            ]
          },
          "metadata": {
            "tags": []
          },
          "execution_count": 54
        }
      ]
    },
    {
      "cell_type": "code",
      "metadata": {
        "id": "VmRKW174O2Ti"
      },
      "source": [
        ""
      ],
      "execution_count": null,
      "outputs": []
    }
  ]
}